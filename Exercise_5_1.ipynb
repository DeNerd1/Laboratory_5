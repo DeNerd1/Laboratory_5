{
  "cells": [
    {
      "cell_type": "markdown",
      "id": "4a04b1a3",
      "metadata": {
        "id": "4a04b1a3"
      },
      "source": [
        "## Assignment 1 - Basic statistics of the data\n",
        "\n",
        "In this problem your task is to open and explore a NOAA weather data file using pandas. The data file name is `6153237444115dat.csv` and it is located in the `data` folder in this repository.\n",
        "\n",
        "### Scores for this problem\n",
        "\n",
        "**Your score on this problem will be based on following criteria:**\n",
        "\n",
        "- Importing the pandas module\n",
        "- Reading the data using pandas into a variable called `data`\n",
        "- Calculating a number of values from the data file used in this problem\n",
        "- Including comments that explain what most lines in the code do\n",
        "- Answering a couple questions at the end of the problem\n"
      ]
    },
    {
      "cell_type": "markdown",
      "id": "56942360",
      "metadata": {
        "id": "56942360"
      },
      "source": []
    },
    {
      "cell_type": "markdown",
      "id": "74d7acf1",
      "metadata": {
        "id": "74d7acf1"
      },
      "source": [
        "### Part 1\n",
        "\n",
        "Your first task is to import pandas and read in the data file.\n",
        "\n",
        "- Import the pandas module\n",
        "- Read the data into a variable called `data` using pandas\n",
        "\n",
        "**Hint**: When reading the data, you need to consider a couple of things:\n",
        "\n",
        "- The input file is located in the `data` folder, and you need to include this in the filepath when reading the file to pandas\n",
        "- No-data values are specified with varying number of `*` characters in the input file. You can tell this to pandas by specifying the following parameter in the pandas `read_csv()` function: `na_values=['*', '**', '***', '****', '*****', '******']`     "
      ]
    },
    {
      "cell_type": "code",
      "execution_count": null,
      "id": "963de505",
      "metadata": {
        "id": "963de505",
        "outputId": "3192c5f2-74d4-4a92-fc8f-1cc12383b1ad"
      },
      "outputs": [
        {
          "ename": "NotImplementedError",
          "evalue": "",
          "output_type": "error",
          "traceback": [
            "\u001b[1;31m---------------------------------------------------------------------------\u001b[0m",
            "\u001b[1;31mNotImplementedError\u001b[0m                       Traceback (most recent call last)",
            "\u001b[1;32m~\\AppData\\Local\\Temp/ipykernel_14420/2747971327.py\u001b[0m in \u001b[0;36m<module>\u001b[1;34m\u001b[0m\n\u001b[0;32m      2\u001b[0m \u001b[1;33m\u001b[0m\u001b[0m\n\u001b[0;32m      3\u001b[0m \u001b[1;31m# YOUR CODE HERE\u001b[0m\u001b[1;33m\u001b[0m\u001b[1;33m\u001b[0m\u001b[0m\n\u001b[1;32m----> 4\u001b[1;33m \u001b[1;32mraise\u001b[0m \u001b[0mNotImplementedError\u001b[0m\u001b[1;33m(\u001b[0m\u001b[1;33m)\u001b[0m\u001b[1;33m\u001b[0m\u001b[1;33m\u001b[0m\u001b[0m\n\u001b[0m",
            "\u001b[1;31mNotImplementedError\u001b[0m: "
          ]
        }
      ],
      "source": [
        "data = None\n",
        "\n",
        "# YOUR CODE HERE\n"
      ]
    },
    {
      "cell_type": "markdown",
      "id": "2424ee9e",
      "metadata": {
        "id": "2424ee9e"
      },
      "source": [
        "Check that the first rows of the DataFrame look ok:"
      ]
    },
    {
      "cell_type": "code",
      "execution_count": null,
      "id": "c21731cf",
      "metadata": {
        "id": "c21731cf"
      },
      "outputs": [],
      "source": [
        "data.head()"
      ]
    },
    {
      "cell_type": "markdown",
      "id": "7aab5a0d",
      "metadata": {
        "id": "7aab5a0d"
      },
      "source": [
        "### Part 2\n",
        "\n",
        "In the cell below, fill in the variables values to print answers to these questions:\n",
        "\n",
        "- How many rows is there in the data (variable `rows`)?\n",
        "- What are the column names (variable `column_names`)?\n",
        "- What are the datatypes of the columns (variable `column_datatypes`)?"
      ]
    },
    {
      "cell_type": "code",
      "execution_count": null,
      "id": "3b85ee1e",
      "metadata": {
        "id": "3b85ee1e"
      },
      "outputs": [],
      "source": [
        "row_count = None\n",
        "column_names = None\n",
        "column_datatypes = None\n",
        "\n",
        "# YOUR CODE HERE\n"
      ]
    },
    {
      "cell_type": "code",
      "execution_count": null,
      "id": "bd21ac4c",
      "metadata": {
        "id": "bd21ac4c"
      },
      "outputs": [],
      "source": [
        "# Print the number of rows in the dataframe:\n",
        "print(f\"There are {row_count} rows\")"
      ]
    },
    {
      "cell_type": "code",
      "execution_count": null,
      "id": "62f2ca11",
      "metadata": {
        "id": "62f2ca11"
      },
      "outputs": [],
      "source": [
        "# Print the column names:\n",
        "print(f\"The columns are: \\n{column_names}\")"
      ]
    },
    {
      "cell_type": "code",
      "execution_count": null,
      "id": "6cbf8be3",
      "metadata": {
        "id": "6cbf8be3"
      },
      "outputs": [],
      "source": [
        "# Print the column datatypes:\n",
        "print(f\"The column types are: \\n{column_datatypes}\")"
      ]
    },
    {
      "cell_type": "markdown",
      "id": "11f938a0",
      "metadata": {
        "id": "11f938a0"
      },
      "source": [
        "### Part 3\n",
        "In the cell below, fill in the variables values to print answers to these questions:\n",
        "\n",
        "- What is the mean Fahrenheit temperature in the data (`temp_mean` variable calculated from the `TEMP` column)?\n",
        "- What is the standard deviation of the maximum temperature (`temp_max_std` variable calculated from the `MAX` column)?\n",
        "- How many unique stations exists in the data (`station_count` variable calcualted from the `USAF` column)?"
      ]
    },
    {
      "cell_type": "code",
      "execution_count": null,
      "id": "d84b5174",
      "metadata": {
        "id": "d84b5174"
      },
      "outputs": [],
      "source": [
        "# Calculate mean temperature\n",
        "temp_mean = None\n",
        "\n",
        "# Calculate standard deviaton of the maximum temperature:\n",
        "temp_max_std = None\n",
        "\n",
        "#Calculate number of unique stations:\n",
        "station_count = None\n",
        "\n",
        "# YOUR CODE HERE\n"
      ]
    },
    {
      "cell_type": "code",
      "execution_count": null,
      "id": "3ec14576",
      "metadata": {
        "id": "3ec14576"
      },
      "outputs": [],
      "source": [
        "# Check mean temperature value\n",
        "print(f\"The mean temperature in Fahrenheit is {round(temp_mean,1)}\")"
      ]
    },
    {
      "cell_type": "code",
      "execution_count": null,
      "id": "a6860cc5",
      "metadata": {
        "id": "a6860cc5"
      },
      "outputs": [],
      "source": [
        "# Check standard deviation value\n",
        "print(f\"The standard deviation of maximum temperature is {round(temp_max_std, 1)}\")"
      ]
    },
    {
      "cell_type": "code",
      "execution_count": null,
      "id": "78302129",
      "metadata": {
        "id": "78302129"
      },
      "outputs": [],
      "source": [
        "# Check number of stations value\n",
        "print(f\"The number of unique stations is {station_count}\")"
      ]
    },
    {
      "cell_type": "markdown",
      "id": "ea29ce97",
      "metadata": {
        "id": "ea29ce97"
      },
      "source": [
        "### Assignment 1 summary\n",
        "\n",
        "- Did you have any problems with Assignment 1?\n",
        "\n",
        "Also, make sure to:\n",
        "\n",
        "- Check that your code includes informative comments explaining what your code does\n",
        "\n",
        "\n",
        "Please write your answers and comments below (**activate the cell by double clicking**)."
      ]
    },
    {
      "cell_type": "markdown",
      "id": "37835827",
      "metadata": {
        "id": "37835827"
      },
      "source": [
        "YOUR ANSWER HERE"
      ]
    },
    {
      "cell_type": "markdown",
      "id": "29807e55",
      "metadata": {
        "id": "29807e55"
      },
      "source": [
        "### On to Problem 2\n",
        "\n"
      ]
    },
    {
      "cell_type": "code",
      "execution_count": null,
      "id": "0e6b2ecf",
      "metadata": {
        "id": "0e6b2ecf"
      },
      "outputs": [],
      "source": []
    }
  ],
  "metadata": {
    "kernelspec": {
      "display_name": "Python 3 (ipykernel)",
      "language": "python",
      "name": "python3"
    },
    "language_info": {
      "codemirror_mode": {
        "name": "ipython",
        "version": 3
      },
      "file_extension": ".py",
      "mimetype": "text/x-python",
      "name": "python",
      "nbconvert_exporter": "python",
      "pygments_lexer": "ipython3",
      "version": "3.9.12"
    },
    "colab": {
      "provenance": []
    }
  },
  "nbformat": 4,
  "nbformat_minor": 5
}