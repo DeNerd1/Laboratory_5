{
  "cells": [
    {
      "cell_type": "markdown",
      "metadata": {
        "id": "view-in-github",
        "colab_type": "text"
      },
      "source": [
        "<a href=\"https://colab.research.google.com/github/DeNerd1/Laboratory_5/blob/main/Exercise_5_1.ipynb\" target=\"_parent\"><img src=\"https://colab.research.google.com/assets/colab-badge.svg\" alt=\"Open In Colab\"/></a>"
      ]
    },
    {
      "cell_type": "markdown",
      "id": "4a04b1a3",
      "metadata": {
        "id": "4a04b1a3"
      },
      "source": [
        "## Assignment 1 - Basic statistics of the data\n",
        "\n",
        "In this problem your task is to open and explore a weather data file using pandas. The data file name is `6153237444115dat.csv`. Donwload the file from Canvas as it will be needed to complete the assignments of exercise 5.\n",
        "\n",
        "### Scores for this problem\n",
        "\n",
        "**Assesments will be based on following criteria:**\n",
        "\n",
        "- Importing the pandas module\n",
        "- Reading the data using pandas into a variable called `data`\n",
        "- Calculating a number of values from the data file used in this problem\n",
        "- Including comments that explain what most lines in the code do\n",
        "- Answering a couple questions at the end of the problem\n"
      ]
    },
    {
      "cell_type": "markdown",
      "id": "74d7acf1",
      "metadata": {
        "id": "74d7acf1"
      },
      "source": [
        "### Part 1\n",
        "\n",
        "Your first task is to import pandas and read in the data file.\n",
        "\n",
        "- Import the pandas module\n",
        "- Read the data into a variable called `data` using pandas\n",
        "\n",
        "**Hint**: When reading the data, you need to consider a couple of things:\n",
        "\n",
        "- Ideally, the input file should be located in the folder that you are running your Notebook to have the least path conflicts\n",
        "- No-data values are specified with varying number of `*` characters in the input file. You can tell this to pandas by specifying the following parameter in the pandas `read_csv()` function: `na_values=['*', '**', '***', '****', '*****', '******']`     "
      ]
    },
    {
      "cell_type": "code",
      "execution_count": 5,
      "id": "963de505",
      "metadata": {
        "id": "963de505",
        "colab": {
          "base_uri": "https://localhost:8080/"
        },
        "outputId": "fc202a59-8655-47e4-b71e-f0f093fea1e3"
      },
      "outputs": [
        {
          "output_type": "stream",
          "name": "stdout",
          "text": [
            "        USAF   WBAN  YR--MODAHRMN    DIR   SPD   GUS   CLG  SKC   L   M  ...  \\\n",
            "0      28450  99999  201705010000  174.0  10.0  14.0   NaN  NaN NaN NaN  ...   \n",
            "1      28450  99999  201705010020  180.0  10.0   NaN   4.0  NaN NaN NaN  ...   \n",
            "2      28450  99999  201705010050  190.0  10.0   NaN   4.0  NaN NaN NaN  ...   \n",
            "3      28450  99999  201705010100  188.0  12.0  16.0   NaN  NaN NaN NaN  ...   \n",
            "4      28450  99999  201705010120  200.0  13.0   NaN   2.0  OBS NaN NaN  ...   \n",
            "...      ...    ...           ...    ...   ...   ...   ...  ...  ..  ..  ...   \n",
            "11689  29980  99999  201708311900  144.0  12.0  20.0  50.0  BKN NaN NaN  ...   \n",
            "11690  29980  99999  201708312000  137.0  14.0  20.0  40.0  BKN NaN NaN  ...   \n",
            "11691  29980  99999  201708312100  160.0  13.0   NaN   NaN  BKN NaN NaN  ...   \n",
            "11692  29980  99999  201708312200  170.0  12.0  21.0  28.0  OVC NaN NaN  ...   \n",
            "11693  29980  99999  201708312300  192.0  13.0  21.0  19.0  BKN NaN NaN  ...   \n",
            "\n",
            "          SLP    ALT     STP  MAX  MIN  PCP01  PCP06  PCP24  PCPXX    SD  \n",
            "0      1009.2    NaN   984.1  NaN  NaN    NaN    NaN    NaN    NaN  35.0  \n",
            "1         NaN  29.74     NaN  NaN  NaN    NaN    NaN    NaN    NaN   NaN  \n",
            "2         NaN  29.74     NaN  NaN  NaN    NaN    NaN    NaN    NaN   NaN  \n",
            "3      1009.1    NaN   984.0  NaN  NaN    NaN    NaN    NaN    NaN  35.0  \n",
            "4         NaN  29.74     NaN  NaN  NaN    NaN    NaN    NaN    NaN   NaN  \n",
            "...       ...    ...     ...  ...  ...    ...    ...    ...    ...   ...  \n",
            "11689  1007.7    NaN  1004.7  NaN  NaN    NaN    NaN    NaN    NaN   0.0  \n",
            "11690  1006.9    NaN  1003.9  NaN  NaN    NaN    NaN    NaN    NaN   0.0  \n",
            "11691  1006.1    NaN  1003.2  NaN  NaN    NaN    NaN    NaN    NaN   NaN  \n",
            "11692  1006.1    NaN  1003.1  NaN  NaN    NaN    NaN    NaN    NaN   0.0  \n",
            "11693  1005.8    NaN  1002.8  NaN  NaN    NaN    NaN    NaN    NaN   0.0  \n",
            "\n",
            "[11694 rows x 33 columns]\n"
          ]
        }
      ],
      "source": [
        "import pandas as pd\n",
        "\n",
        "data = pd.read_csv(\"/content/sample_data/6153237444115dat.csv\",na_values=['*', '**', '***', '****', '*****', '******'])\n",
        "print(data)\n",
        "\n",
        "# YOUR CODE HERE\n"
      ]
    },
    {
      "cell_type": "markdown",
      "id": "2424ee9e",
      "metadata": {
        "id": "2424ee9e"
      },
      "source": [
        "Check that the first rows of the DataFrame look ok:"
      ]
    },
    {
      "cell_type": "code",
      "execution_count": 6,
      "id": "c21731cf",
      "metadata": {
        "id": "c21731cf",
        "colab": {
          "base_uri": "https://localhost:8080/",
          "height": 236
        },
        "outputId": "2dfad4ab-666a-4b51-cde8-44966462e7b1"
      },
      "outputs": [
        {
          "output_type": "execute_result",
          "data": {
            "text/plain": [
              "    USAF   WBAN  YR--MODAHRMN    DIR   SPD   GUS  CLG  SKC   L   M  ...  \\\n",
              "0  28450  99999  201705010000  174.0  10.0  14.0  NaN  NaN NaN NaN  ...   \n",
              "1  28450  99999  201705010020  180.0  10.0   NaN  4.0  NaN NaN NaN  ...   \n",
              "2  28450  99999  201705010050  190.0  10.0   NaN  4.0  NaN NaN NaN  ...   \n",
              "3  28450  99999  201705010100  188.0  12.0  16.0  NaN  NaN NaN NaN  ...   \n",
              "4  28450  99999  201705010120  200.0  13.0   NaN  2.0  OBS NaN NaN  ...   \n",
              "\n",
              "      SLP    ALT    STP  MAX  MIN  PCP01  PCP06  PCP24  PCPXX    SD  \n",
              "0  1009.2    NaN  984.1  NaN  NaN    NaN    NaN    NaN    NaN  35.0  \n",
              "1     NaN  29.74    NaN  NaN  NaN    NaN    NaN    NaN    NaN   NaN  \n",
              "2     NaN  29.74    NaN  NaN  NaN    NaN    NaN    NaN    NaN   NaN  \n",
              "3  1009.1    NaN  984.0  NaN  NaN    NaN    NaN    NaN    NaN  35.0  \n",
              "4     NaN  29.74    NaN  NaN  NaN    NaN    NaN    NaN    NaN   NaN  \n",
              "\n",
              "[5 rows x 33 columns]"
            ],
            "text/html": [
              "\n",
              "  <div id=\"df-ef7c9f81-9d48-4bf8-b25d-d36e6c29b120\" class=\"colab-df-container\">\n",
              "    <div>\n",
              "<style scoped>\n",
              "    .dataframe tbody tr th:only-of-type {\n",
              "        vertical-align: middle;\n",
              "    }\n",
              "\n",
              "    .dataframe tbody tr th {\n",
              "        vertical-align: top;\n",
              "    }\n",
              "\n",
              "    .dataframe thead th {\n",
              "        text-align: right;\n",
              "    }\n",
              "</style>\n",
              "<table border=\"1\" class=\"dataframe\">\n",
              "  <thead>\n",
              "    <tr style=\"text-align: right;\">\n",
              "      <th></th>\n",
              "      <th>USAF</th>\n",
              "      <th>WBAN</th>\n",
              "      <th>YR--MODAHRMN</th>\n",
              "      <th>DIR</th>\n",
              "      <th>SPD</th>\n",
              "      <th>GUS</th>\n",
              "      <th>CLG</th>\n",
              "      <th>SKC</th>\n",
              "      <th>L</th>\n",
              "      <th>M</th>\n",
              "      <th>...</th>\n",
              "      <th>SLP</th>\n",
              "      <th>ALT</th>\n",
              "      <th>STP</th>\n",
              "      <th>MAX</th>\n",
              "      <th>MIN</th>\n",
              "      <th>PCP01</th>\n",
              "      <th>PCP06</th>\n",
              "      <th>PCP24</th>\n",
              "      <th>PCPXX</th>\n",
              "      <th>SD</th>\n",
              "    </tr>\n",
              "  </thead>\n",
              "  <tbody>\n",
              "    <tr>\n",
              "      <th>0</th>\n",
              "      <td>28450</td>\n",
              "      <td>99999</td>\n",
              "      <td>201705010000</td>\n",
              "      <td>174.0</td>\n",
              "      <td>10.0</td>\n",
              "      <td>14.0</td>\n",
              "      <td>NaN</td>\n",
              "      <td>NaN</td>\n",
              "      <td>NaN</td>\n",
              "      <td>NaN</td>\n",
              "      <td>...</td>\n",
              "      <td>1009.2</td>\n",
              "      <td>NaN</td>\n",
              "      <td>984.1</td>\n",
              "      <td>NaN</td>\n",
              "      <td>NaN</td>\n",
              "      <td>NaN</td>\n",
              "      <td>NaN</td>\n",
              "      <td>NaN</td>\n",
              "      <td>NaN</td>\n",
              "      <td>35.0</td>\n",
              "    </tr>\n",
              "    <tr>\n",
              "      <th>1</th>\n",
              "      <td>28450</td>\n",
              "      <td>99999</td>\n",
              "      <td>201705010020</td>\n",
              "      <td>180.0</td>\n",
              "      <td>10.0</td>\n",
              "      <td>NaN</td>\n",
              "      <td>4.0</td>\n",
              "      <td>NaN</td>\n",
              "      <td>NaN</td>\n",
              "      <td>NaN</td>\n",
              "      <td>...</td>\n",
              "      <td>NaN</td>\n",
              "      <td>29.74</td>\n",
              "      <td>NaN</td>\n",
              "      <td>NaN</td>\n",
              "      <td>NaN</td>\n",
              "      <td>NaN</td>\n",
              "      <td>NaN</td>\n",
              "      <td>NaN</td>\n",
              "      <td>NaN</td>\n",
              "      <td>NaN</td>\n",
              "    </tr>\n",
              "    <tr>\n",
              "      <th>2</th>\n",
              "      <td>28450</td>\n",
              "      <td>99999</td>\n",
              "      <td>201705010050</td>\n",
              "      <td>190.0</td>\n",
              "      <td>10.0</td>\n",
              "      <td>NaN</td>\n",
              "      <td>4.0</td>\n",
              "      <td>NaN</td>\n",
              "      <td>NaN</td>\n",
              "      <td>NaN</td>\n",
              "      <td>...</td>\n",
              "      <td>NaN</td>\n",
              "      <td>29.74</td>\n",
              "      <td>NaN</td>\n",
              "      <td>NaN</td>\n",
              "      <td>NaN</td>\n",
              "      <td>NaN</td>\n",
              "      <td>NaN</td>\n",
              "      <td>NaN</td>\n",
              "      <td>NaN</td>\n",
              "      <td>NaN</td>\n",
              "    </tr>\n",
              "    <tr>\n",
              "      <th>3</th>\n",
              "      <td>28450</td>\n",
              "      <td>99999</td>\n",
              "      <td>201705010100</td>\n",
              "      <td>188.0</td>\n",
              "      <td>12.0</td>\n",
              "      <td>16.0</td>\n",
              "      <td>NaN</td>\n",
              "      <td>NaN</td>\n",
              "      <td>NaN</td>\n",
              "      <td>NaN</td>\n",
              "      <td>...</td>\n",
              "      <td>1009.1</td>\n",
              "      <td>NaN</td>\n",
              "      <td>984.0</td>\n",
              "      <td>NaN</td>\n",
              "      <td>NaN</td>\n",
              "      <td>NaN</td>\n",
              "      <td>NaN</td>\n",
              "      <td>NaN</td>\n",
              "      <td>NaN</td>\n",
              "      <td>35.0</td>\n",
              "    </tr>\n",
              "    <tr>\n",
              "      <th>4</th>\n",
              "      <td>28450</td>\n",
              "      <td>99999</td>\n",
              "      <td>201705010120</td>\n",
              "      <td>200.0</td>\n",
              "      <td>13.0</td>\n",
              "      <td>NaN</td>\n",
              "      <td>2.0</td>\n",
              "      <td>OBS</td>\n",
              "      <td>NaN</td>\n",
              "      <td>NaN</td>\n",
              "      <td>...</td>\n",
              "      <td>NaN</td>\n",
              "      <td>29.74</td>\n",
              "      <td>NaN</td>\n",
              "      <td>NaN</td>\n",
              "      <td>NaN</td>\n",
              "      <td>NaN</td>\n",
              "      <td>NaN</td>\n",
              "      <td>NaN</td>\n",
              "      <td>NaN</td>\n",
              "      <td>NaN</td>\n",
              "    </tr>\n",
              "  </tbody>\n",
              "</table>\n",
              "<p>5 rows × 33 columns</p>\n",
              "</div>\n",
              "    <div class=\"colab-df-buttons\">\n",
              "\n",
              "  <div class=\"colab-df-container\">\n",
              "    <button class=\"colab-df-convert\" onclick=\"convertToInteractive('df-ef7c9f81-9d48-4bf8-b25d-d36e6c29b120')\"\n",
              "            title=\"Convert this dataframe to an interactive table.\"\n",
              "            style=\"display:none;\">\n",
              "\n",
              "  <svg xmlns=\"http://www.w3.org/2000/svg\" height=\"24px\" viewBox=\"0 -960 960 960\">\n",
              "    <path d=\"M120-120v-720h720v720H120Zm60-500h600v-160H180v160Zm220 220h160v-160H400v160Zm0 220h160v-160H400v160ZM180-400h160v-160H180v160Zm440 0h160v-160H620v160ZM180-180h160v-160H180v160Zm440 0h160v-160H620v160Z\"/>\n",
              "  </svg>\n",
              "    </button>\n",
              "\n",
              "  <style>\n",
              "    .colab-df-container {\n",
              "      display:flex;\n",
              "      gap: 12px;\n",
              "    }\n",
              "\n",
              "    .colab-df-convert {\n",
              "      background-color: #E8F0FE;\n",
              "      border: none;\n",
              "      border-radius: 50%;\n",
              "      cursor: pointer;\n",
              "      display: none;\n",
              "      fill: #1967D2;\n",
              "      height: 32px;\n",
              "      padding: 0 0 0 0;\n",
              "      width: 32px;\n",
              "    }\n",
              "\n",
              "    .colab-df-convert:hover {\n",
              "      background-color: #E2EBFA;\n",
              "      box-shadow: 0px 1px 2px rgba(60, 64, 67, 0.3), 0px 1px 3px 1px rgba(60, 64, 67, 0.15);\n",
              "      fill: #174EA6;\n",
              "    }\n",
              "\n",
              "    .colab-df-buttons div {\n",
              "      margin-bottom: 4px;\n",
              "    }\n",
              "\n",
              "    [theme=dark] .colab-df-convert {\n",
              "      background-color: #3B4455;\n",
              "      fill: #D2E3FC;\n",
              "    }\n",
              "\n",
              "    [theme=dark] .colab-df-convert:hover {\n",
              "      background-color: #434B5C;\n",
              "      box-shadow: 0px 1px 3px 1px rgba(0, 0, 0, 0.15);\n",
              "      filter: drop-shadow(0px 1px 2px rgba(0, 0, 0, 0.3));\n",
              "      fill: #FFFFFF;\n",
              "    }\n",
              "  </style>\n",
              "\n",
              "    <script>\n",
              "      const buttonEl =\n",
              "        document.querySelector('#df-ef7c9f81-9d48-4bf8-b25d-d36e6c29b120 button.colab-df-convert');\n",
              "      buttonEl.style.display =\n",
              "        google.colab.kernel.accessAllowed ? 'block' : 'none';\n",
              "\n",
              "      async function convertToInteractive(key) {\n",
              "        const element = document.querySelector('#df-ef7c9f81-9d48-4bf8-b25d-d36e6c29b120');\n",
              "        const dataTable =\n",
              "          await google.colab.kernel.invokeFunction('convertToInteractive',\n",
              "                                                    [key], {});\n",
              "        if (!dataTable) return;\n",
              "\n",
              "        const docLinkHtml = 'Like what you see? Visit the ' +\n",
              "          '<a target=\"_blank\" href=https://colab.research.google.com/notebooks/data_table.ipynb>data table notebook</a>'\n",
              "          + ' to learn more about interactive tables.';\n",
              "        element.innerHTML = '';\n",
              "        dataTable['output_type'] = 'display_data';\n",
              "        await google.colab.output.renderOutput(dataTable, element);\n",
              "        const docLink = document.createElement('div');\n",
              "        docLink.innerHTML = docLinkHtml;\n",
              "        element.appendChild(docLink);\n",
              "      }\n",
              "    </script>\n",
              "  </div>\n",
              "\n",
              "\n",
              "    <div id=\"df-7522a878-8b40-47c8-b024-ea007d9fe275\">\n",
              "      <button class=\"colab-df-quickchart\" onclick=\"quickchart('df-7522a878-8b40-47c8-b024-ea007d9fe275')\"\n",
              "                title=\"Suggest charts\"\n",
              "                style=\"display:none;\">\n",
              "\n",
              "<svg xmlns=\"http://www.w3.org/2000/svg\" height=\"24px\"viewBox=\"0 0 24 24\"\n",
              "     width=\"24px\">\n",
              "    <g>\n",
              "        <path d=\"M19 3H5c-1.1 0-2 .9-2 2v14c0 1.1.9 2 2 2h14c1.1 0 2-.9 2-2V5c0-1.1-.9-2-2-2zM9 17H7v-7h2v7zm4 0h-2V7h2v10zm4 0h-2v-4h2v4z\"/>\n",
              "    </g>\n",
              "</svg>\n",
              "      </button>\n",
              "\n",
              "<style>\n",
              "  .colab-df-quickchart {\n",
              "      --bg-color: #E8F0FE;\n",
              "      --fill-color: #1967D2;\n",
              "      --hover-bg-color: #E2EBFA;\n",
              "      --hover-fill-color: #174EA6;\n",
              "      --disabled-fill-color: #AAA;\n",
              "      --disabled-bg-color: #DDD;\n",
              "  }\n",
              "\n",
              "  [theme=dark] .colab-df-quickchart {\n",
              "      --bg-color: #3B4455;\n",
              "      --fill-color: #D2E3FC;\n",
              "      --hover-bg-color: #434B5C;\n",
              "      --hover-fill-color: #FFFFFF;\n",
              "      --disabled-bg-color: #3B4455;\n",
              "      --disabled-fill-color: #666;\n",
              "  }\n",
              "\n",
              "  .colab-df-quickchart {\n",
              "    background-color: var(--bg-color);\n",
              "    border: none;\n",
              "    border-radius: 50%;\n",
              "    cursor: pointer;\n",
              "    display: none;\n",
              "    fill: var(--fill-color);\n",
              "    height: 32px;\n",
              "    padding: 0;\n",
              "    width: 32px;\n",
              "  }\n",
              "\n",
              "  .colab-df-quickchart:hover {\n",
              "    background-color: var(--hover-bg-color);\n",
              "    box-shadow: 0 1px 2px rgba(60, 64, 67, 0.3), 0 1px 3px 1px rgba(60, 64, 67, 0.15);\n",
              "    fill: var(--button-hover-fill-color);\n",
              "  }\n",
              "\n",
              "  .colab-df-quickchart-complete:disabled,\n",
              "  .colab-df-quickchart-complete:disabled:hover {\n",
              "    background-color: var(--disabled-bg-color);\n",
              "    fill: var(--disabled-fill-color);\n",
              "    box-shadow: none;\n",
              "  }\n",
              "\n",
              "  .colab-df-spinner {\n",
              "    border: 2px solid var(--fill-color);\n",
              "    border-color: transparent;\n",
              "    border-bottom-color: var(--fill-color);\n",
              "    animation:\n",
              "      spin 1s steps(1) infinite;\n",
              "  }\n",
              "\n",
              "  @keyframes spin {\n",
              "    0% {\n",
              "      border-color: transparent;\n",
              "      border-bottom-color: var(--fill-color);\n",
              "      border-left-color: var(--fill-color);\n",
              "    }\n",
              "    20% {\n",
              "      border-color: transparent;\n",
              "      border-left-color: var(--fill-color);\n",
              "      border-top-color: var(--fill-color);\n",
              "    }\n",
              "    30% {\n",
              "      border-color: transparent;\n",
              "      border-left-color: var(--fill-color);\n",
              "      border-top-color: var(--fill-color);\n",
              "      border-right-color: var(--fill-color);\n",
              "    }\n",
              "    40% {\n",
              "      border-color: transparent;\n",
              "      border-right-color: var(--fill-color);\n",
              "      border-top-color: var(--fill-color);\n",
              "    }\n",
              "    60% {\n",
              "      border-color: transparent;\n",
              "      border-right-color: var(--fill-color);\n",
              "    }\n",
              "    80% {\n",
              "      border-color: transparent;\n",
              "      border-right-color: var(--fill-color);\n",
              "      border-bottom-color: var(--fill-color);\n",
              "    }\n",
              "    90% {\n",
              "      border-color: transparent;\n",
              "      border-bottom-color: var(--fill-color);\n",
              "    }\n",
              "  }\n",
              "</style>\n",
              "\n",
              "      <script>\n",
              "        async function quickchart(key) {\n",
              "          const quickchartButtonEl =\n",
              "            document.querySelector('#' + key + ' button');\n",
              "          quickchartButtonEl.disabled = true;  // To prevent multiple clicks.\n",
              "          quickchartButtonEl.classList.add('colab-df-spinner');\n",
              "          try {\n",
              "            const charts = await google.colab.kernel.invokeFunction(\n",
              "                'suggestCharts', [key], {});\n",
              "          } catch (error) {\n",
              "            console.error('Error during call to suggestCharts:', error);\n",
              "          }\n",
              "          quickchartButtonEl.classList.remove('colab-df-spinner');\n",
              "          quickchartButtonEl.classList.add('colab-df-quickchart-complete');\n",
              "        }\n",
              "        (() => {\n",
              "          let quickchartButtonEl =\n",
              "            document.querySelector('#df-7522a878-8b40-47c8-b024-ea007d9fe275 button');\n",
              "          quickchartButtonEl.style.display =\n",
              "            google.colab.kernel.accessAllowed ? 'block' : 'none';\n",
              "        })();\n",
              "      </script>\n",
              "    </div>\n",
              "\n",
              "    </div>\n",
              "  </div>\n"
            ],
            "application/vnd.google.colaboratory.intrinsic+json": {
              "type": "dataframe",
              "variable_name": "data"
            }
          },
          "metadata": {},
          "execution_count": 6
        }
      ],
      "source": [
        "data.head()"
      ]
    },
    {
      "cell_type": "markdown",
      "id": "7aab5a0d",
      "metadata": {
        "id": "7aab5a0d"
      },
      "source": [
        "### Part 2\n",
        "\n",
        "In the cell below, fill in the variables values to print answers to these questions:\n",
        "\n",
        "- How many rows is there in the data (variable `rows`)?\n",
        "- What are the column names (variable `column_names`)?\n",
        "- What are the datatypes of the columns (variable `column_datatypes`)?"
      ]
    },
    {
      "cell_type": "code",
      "execution_count": 8,
      "id": "3b85ee1e",
      "metadata": {
        "id": "3b85ee1e"
      },
      "outputs": [],
      "source": [
        "row_count = len(data)\n",
        "column_names = data.columns.to_list()\n",
        "column_datatypes = data.dtypes\n",
        "\n",
        "# YOUR CODE HERE\n"
      ]
    },
    {
      "cell_type": "code",
      "execution_count": 9,
      "id": "bd21ac4c",
      "metadata": {
        "id": "bd21ac4c",
        "colab": {
          "base_uri": "https://localhost:8080/"
        },
        "outputId": "4f31feb0-d927-4228-a953-7669b6e5abcd"
      },
      "outputs": [
        {
          "output_type": "stream",
          "name": "stdout",
          "text": [
            "There are 11694 rows\n"
          ]
        }
      ],
      "source": [
        "# Print the number of rows in the dataframe:\n",
        "print(f\"There are {row_count} rows\")"
      ]
    },
    {
      "cell_type": "code",
      "execution_count": 10,
      "id": "62f2ca11",
      "metadata": {
        "id": "62f2ca11",
        "colab": {
          "base_uri": "https://localhost:8080/"
        },
        "outputId": "7b6107ba-5753-4750-c53b-d84009bb3a6f"
      },
      "outputs": [
        {
          "output_type": "stream",
          "name": "stdout",
          "text": [
            "The columns are: \n",
            "['USAF', 'WBAN', 'YR--MODAHRMN', 'DIR', 'SPD', 'GUS', 'CLG', 'SKC', 'L', 'M', 'H', 'VSB', 'MW', 'MW.1', 'MW.2', 'MW.3', 'AW', 'AW.1', 'AW.2', 'AW.3', 'W', 'TEMP', 'DEWP', 'SLP', 'ALT', 'STP', 'MAX', 'MIN', 'PCP01', 'PCP06', 'PCP24', 'PCPXX', 'SD']\n"
          ]
        }
      ],
      "source": [
        "# Print the column names:\n",
        "print(f\"The columns are: \\n{column_names}\")"
      ]
    },
    {
      "cell_type": "code",
      "execution_count": 11,
      "id": "6cbf8be3",
      "metadata": {
        "id": "6cbf8be3",
        "colab": {
          "base_uri": "https://localhost:8080/"
        },
        "outputId": "f329a8f4-d67e-40a7-f5f6-6925bf967dd7"
      },
      "outputs": [
        {
          "output_type": "stream",
          "name": "stdout",
          "text": [
            "The column types are: \n",
            "USAF              int64\n",
            "WBAN              int64\n",
            "YR--MODAHRMN      int64\n",
            "DIR             float64\n",
            "SPD             float64\n",
            "GUS             float64\n",
            "CLG             float64\n",
            "SKC              object\n",
            "L               float64\n",
            "M               float64\n",
            "H               float64\n",
            "VSB             float64\n",
            "MW              float64\n",
            "MW.1            float64\n",
            "MW.2            float64\n",
            "MW.3            float64\n",
            "AW              float64\n",
            "AW.1            float64\n",
            "AW.2            float64\n",
            "AW.3            float64\n",
            "W               float64\n",
            "TEMP            float64\n",
            "DEWP            float64\n",
            "SLP             float64\n",
            "ALT             float64\n",
            "STP             float64\n",
            "MAX             float64\n",
            "MIN             float64\n",
            "PCP01           float64\n",
            "PCP06           float64\n",
            "PCP24           float64\n",
            "PCPXX           float64\n",
            "SD              float64\n",
            "dtype: object\n"
          ]
        }
      ],
      "source": [
        "# Print the column datatypes:\n",
        "print(f\"The column types are: \\n{column_datatypes}\")"
      ]
    },
    {
      "cell_type": "markdown",
      "id": "11f938a0",
      "metadata": {
        "id": "11f938a0"
      },
      "source": [
        "### Part 3\n",
        "In the cell below, fill in the variables values to print answers to these questions:\n",
        "\n",
        "- What is the mean Fahrenheit temperature in the data (`temp_mean` variable calculated from the `TEMP` column)?\n",
        "- What is the standard deviation of the maximum temperature (`temp_max_std` variable calculated from the `MAX` column)?\n",
        "- How many unique stations exists in the data (`station_count` variable calcualted from the `USAF` column)?"
      ]
    },
    {
      "cell_type": "code",
      "execution_count": 22,
      "id": "d84b5174",
      "metadata": {
        "id": "d84b5174"
      },
      "outputs": [],
      "source": [
        "# Calculate mean temperature\n",
        "temp_mean = data['TEMP'].mean()\n",
        "\n",
        "# Calculate standard deviaton of the maximum temperature:\n",
        "# Interesting how this works as well df['MAX'].dropna().std(), its seems pandas is smart enough to remove the N/A without the need to drop them.\n",
        "temp_max_std = data['MAX'].std()\n",
        "\n",
        "#Calculate number of unique stations:\n",
        "station_count = data['USAF'].nunique()\n",
        "\n",
        "# YOUR CODE HERE\n"
      ]
    },
    {
      "cell_type": "code",
      "execution_count": 23,
      "id": "3ec14576",
      "metadata": {
        "id": "3ec14576",
        "colab": {
          "base_uri": "https://localhost:8080/"
        },
        "outputId": "dc760839-8930-4e1e-b0c1-72c169dc181f"
      },
      "outputs": [
        {
          "output_type": "stream",
          "name": "stdout",
          "text": [
            "The mean temperature in Fahrenheit is 52.2\n"
          ]
        }
      ],
      "source": [
        "# Check mean temperature value\n",
        "print(f\"The mean temperature in Fahrenheit is {round(temp_mean,1)}\")"
      ]
    },
    {
      "cell_type": "code",
      "execution_count": 28,
      "id": "a6860cc5",
      "metadata": {
        "id": "a6860cc5",
        "colab": {
          "base_uri": "https://localhost:8080/"
        },
        "outputId": "a52f9216-edb6-481c-98e7-a37e6aa0ea28"
      },
      "outputs": [
        {
          "output_type": "stream",
          "name": "stdout",
          "text": [
            "The standard deviation of maximum temperature is 10.3\n",
            "10.30798909464196\n"
          ]
        }
      ],
      "source": [
        "# Check standard deviation value\n",
        "print(f\"The standard deviation of maximum temperature is {round(temp_max_std, 1)}\")\n",
        "print(data['MAX'].dropna().std())"
      ]
    },
    {
      "cell_type": "code",
      "execution_count": 26,
      "id": "78302129",
      "metadata": {
        "id": "78302129",
        "colab": {
          "base_uri": "https://localhost:8080/"
        },
        "outputId": "8c47ac83-07a2-4b71-a4ed-5e7c5d13e834"
      },
      "outputs": [
        {
          "output_type": "stream",
          "name": "stdout",
          "text": [
            "The number of unique stations is 2\n"
          ]
        }
      ],
      "source": [
        "# Check number of stations value\n",
        "print(f\"The number of unique stations is {station_count}\")"
      ]
    },
    {
      "cell_type": "markdown",
      "id": "ea29ce97",
      "metadata": {
        "id": "ea29ce97"
      },
      "source": [
        "### Assignment 1 summary\n",
        "\n",
        "- Did you have any problems with Assignment 1?\n",
        "\n",
        "Also, make sure to:\n",
        "\n",
        "- Check that your code includes informative comments explaining what your code does\n",
        "\n",
        "\n",
        "Please write your answers and comments below (**activate the cell by double clicking**)."
      ]
    },
    {
      "cell_type": "markdown",
      "id": "37835827",
      "metadata": {
        "id": "37835827"
      },
      "source": [
        "No, issue at all."
      ]
    },
    {
      "cell_type": "markdown",
      "id": "29807e55",
      "metadata": {
        "id": "29807e55"
      },
      "source": [
        "### On to Problem 2\n",
        "\n"
      ]
    },
    {
      "cell_type": "markdown",
      "id": "585503de-3df9-4210-826b-c1cd9faad14a",
      "metadata": {
        "id": "585503de-3df9-4210-826b-c1cd9faad14a"
      },
      "source": [
        "Sources for the exercise : https://geo-python-site.readthedocs.io/en/latest/ running on a Attribution-ShareAlike 4.0 International Licence https://creativecommons.org/licenses/by-sa/4.0/deed.en"
      ]
    },
    {
      "cell_type": "code",
      "execution_count": null,
      "id": "5dde9e59-ee07-4cf1-85d9-e98581328445",
      "metadata": {
        "id": "5dde9e59-ee07-4cf1-85d9-e98581328445"
      },
      "outputs": [],
      "source": []
    }
  ],
  "metadata": {
    "colab": {
      "provenance": [],
      "include_colab_link": true
    },
    "kernelspec": {
      "display_name": "Python 3 (ipykernel)",
      "language": "python",
      "name": "python3"
    },
    "language_info": {
      "codemirror_mode": {
        "name": "ipython",
        "version": 3
      },
      "file_extension": ".py",
      "mimetype": "text/x-python",
      "name": "python",
      "nbconvert_exporter": "python",
      "pygments_lexer": "ipython3",
      "version": "3.11.7"
    }
  },
  "nbformat": 4,
  "nbformat_minor": 5
}