{
  "cells": [
    {
      "cell_type": "markdown",
      "metadata": {
        "id": "view-in-github",
        "colab_type": "text"
      },
      "source": [
        "<a href=\"https://colab.research.google.com/github/DeNerd1/Laboratory_5/blob/main/Exercise_5_2.ipynb\" target=\"_parent\"><img src=\"https://colab.research.google.com/assets/colab-badge.svg\" alt=\"Open In Colab\"/></a>"
      ]
    },
    {
      "cell_type": "markdown",
      "id": "2451ae4e",
      "metadata": {
        "id": "2451ae4e"
      },
      "source": [
        "## Assignment 2 - Data manipulation and selection\n",
        "\n",
        "In this problem you will clean the data from our data file by removing no-data values, convert temperature values in Fahrenheit to Celsius, and split the data into separate datasets using the weather station identification code. We will start this problem by cleaning and converting our temperature data. Please perform the tasks below by writing your code into the codeblocks in each section.\n",
        "\n",
        "\n",
        "### Assesment\n",
        "\n",
        "**Assesment will be based on following criteria:**\n",
        "\n",
        "- Creating a new dataframe called `selected` that contains select columns from the data file\n",
        "- Cleaning the new dataframe by removing no-data values\n",
        "- Creating a new column for temperatures converted from Fahrenheit to Celsius\n",
        "- Dividing the data into separate dataframes for the Station1 and Station2\n",
        "- Saving the new dataframes to CSV files\n",
        "- Including comments that explain what most lines in the code do\n",
        "- Answering a couple questions at the end of the problem\n"
      ]
    },
    {
      "cell_type": "markdown",
      "id": "ae35f19d",
      "metadata": {
        "id": "ae35f19d"
      },
      "source": [
        "### Part 1\n",
        "\n",
        "The first step for this problem is to read the data file `6153237444115dat.csv` again into a variable `data` using pandas. Remember to specify the no-data values (you can copy your code from assignment 1)."
      ]
    },
    {
      "cell_type": "code",
      "execution_count": 62,
      "id": "175ce028",
      "metadata": {
        "id": "175ce028",
        "colab": {
          "base_uri": "https://localhost:8080/"
        },
        "outputId": "102caf28-f003-4fc8-8307-6d1b3b390878"
      },
      "outputs": [
        {
          "output_type": "stream",
          "name": "stdout",
          "text": [
            "        USAF   WBAN  YR--MODAHRMN    DIR   SPD   GUS   CLG  SKC   L   M  ...  \\\n",
            "0      28450  99999  201705010000  174.0  10.0  14.0   NaN  NaN NaN NaN  ...   \n",
            "1      28450  99999  201705010020  180.0  10.0   NaN   4.0  NaN NaN NaN  ...   \n",
            "2      28450  99999  201705010050  190.0  10.0   NaN   4.0  NaN NaN NaN  ...   \n",
            "3      28450  99999  201705010100  188.0  12.0  16.0   NaN  NaN NaN NaN  ...   \n",
            "4      28450  99999  201705010120  200.0  13.0   NaN   2.0  OBS NaN NaN  ...   \n",
            "...      ...    ...           ...    ...   ...   ...   ...  ...  ..  ..  ...   \n",
            "11689  29980  99999  201708311900  144.0  12.0  20.0  50.0  BKN NaN NaN  ...   \n",
            "11690  29980  99999  201708312000  137.0  14.0  20.0  40.0  BKN NaN NaN  ...   \n",
            "11691  29980  99999  201708312100  160.0  13.0   NaN   NaN  BKN NaN NaN  ...   \n",
            "11692  29980  99999  201708312200  170.0  12.0  21.0  28.0  OVC NaN NaN  ...   \n",
            "11693  29980  99999  201708312300  192.0  13.0  21.0  19.0  BKN NaN NaN  ...   \n",
            "\n",
            "          SLP    ALT     STP  MAX  MIN  PCP01  PCP06  PCP24  PCPXX    SD  \n",
            "0      1009.2    NaN   984.1  NaN  NaN    NaN    NaN    NaN    NaN  35.0  \n",
            "1         NaN  29.74     NaN  NaN  NaN    NaN    NaN    NaN    NaN   NaN  \n",
            "2         NaN  29.74     NaN  NaN  NaN    NaN    NaN    NaN    NaN   NaN  \n",
            "3      1009.1    NaN   984.0  NaN  NaN    NaN    NaN    NaN    NaN  35.0  \n",
            "4         NaN  29.74     NaN  NaN  NaN    NaN    NaN    NaN    NaN   NaN  \n",
            "...       ...    ...     ...  ...  ...    ...    ...    ...    ...   ...  \n",
            "11689  1007.7    NaN  1004.7  NaN  NaN    NaN    NaN    NaN    NaN   0.0  \n",
            "11690  1006.9    NaN  1003.9  NaN  NaN    NaN    NaN    NaN    NaN   0.0  \n",
            "11691  1006.1    NaN  1003.2  NaN  NaN    NaN    NaN    NaN    NaN   NaN  \n",
            "11692  1006.1    NaN  1003.1  NaN  NaN    NaN    NaN    NaN    NaN   0.0  \n",
            "11693  1005.8    NaN  1002.8  NaN  NaN    NaN    NaN    NaN    NaN   0.0  \n",
            "\n",
            "[11694 rows x 33 columns]\n"
          ]
        }
      ],
      "source": [
        "import pandas as pd\n",
        "data = pd.read_csv(\"/content/sample_data/6153237444115dat.csv\",na_values=['*', '**', '***', '****', '*****', '******'])\n",
        "print(data)\n",
        "\n",
        "# YOUR CODE HERE\n"
      ]
    },
    {
      "cell_type": "markdown",
      "id": "b626b191",
      "metadata": {
        "id": "b626b191"
      },
      "source": [
        "Check that the first rows of the DataFrame look ok:"
      ]
    },
    {
      "cell_type": "code",
      "execution_count": 63,
      "id": "7e232f0e",
      "metadata": {
        "id": "7e232f0e",
        "colab": {
          "base_uri": "https://localhost:8080/"
        },
        "outputId": "b71d637d-8fcc-4623-d2bb-5e2759063afb"
      },
      "outputs": [
        {
          "output_type": "stream",
          "name": "stdout",
          "text": [
            "USAF                   28450\n",
            "WBAN                   99999\n",
            "YR--MODAHRMN    201705010000\n",
            "DIR                    174.0\n",
            "SPD                     10.0\n",
            "GUS                     14.0\n",
            "CLG                      NaN\n",
            "SKC                      NaN\n",
            "L                        NaN\n",
            "M                        NaN\n",
            "H                        NaN\n",
            "VSB                      2.2\n",
            "MW                       NaN\n",
            "MW.1                     NaN\n",
            "MW.2                     NaN\n",
            "MW.3                     NaN\n",
            "AW                      67.0\n",
            "AW.1                     NaN\n",
            "AW.2                     NaN\n",
            "AW.3                     NaN\n",
            "W                        8.0\n",
            "TEMP                    31.0\n",
            "DEWP                    31.0\n",
            "SLP                   1009.2\n",
            "ALT                      NaN\n",
            "STP                    984.1\n",
            "MAX                      NaN\n",
            "MIN                      NaN\n",
            "PCP01                    NaN\n",
            "PCP06                    NaN\n",
            "PCP24                    NaN\n",
            "PCPXX                    NaN\n",
            "SD                      35.0\n",
            "Name: 0, dtype: object\n"
          ]
        }
      ],
      "source": [
        "print(data.loc[0])"
      ]
    },
    {
      "cell_type": "markdown",
      "id": "0d46b620",
      "metadata": {
        "id": "0d46b620"
      },
      "source": [
        "Check the number of rows in the DataFrame:"
      ]
    },
    {
      "cell_type": "code",
      "execution_count": 64,
      "id": "4bf4be11",
      "metadata": {
        "id": "4bf4be11",
        "colab": {
          "base_uri": "https://localhost:8080/"
        },
        "outputId": "1e8305a4-b7a3-485d-a5af-750f3b924cf4"
      },
      "outputs": [
        {
          "output_type": "stream",
          "name": "stdout",
          "text": [
            "11694\n"
          ]
        }
      ],
      "source": [
        "print(len(data))"
      ]
    },
    {
      "cell_type": "markdown",
      "id": "c87f1e57",
      "metadata": {
        "id": "c87f1e57"
      },
      "source": [
        "### Part 2\n",
        "\n",
        "Next, your task is to subset the data and remove rows with missing temperature values.\n",
        "\n",
        "- Select the columns `USAF`, `YR--MODAHRMN`, `TEMP`, `MAX`, and `MIN` from the `data` dataframe and assign them to the variable `selected`\n",
        "- Remove all rows from `selected` that have NoData in the column `TEMP` using the `dropna()` function"
      ]
    },
    {
      "cell_type": "code",
      "execution_count": 66,
      "id": "84b60f7c",
      "metadata": {
        "id": "84b60f7c",
        "colab": {
          "base_uri": "https://localhost:8080/"
        },
        "outputId": "7d7ee081-acc9-4fba-a53f-083e9d6d1b84"
      },
      "outputs": [
        {
          "output_type": "stream",
          "name": "stdout",
          "text": [
            "        USAF  YR--MODAHRMN  TEMP   MAX   MIN\n",
            "18     28450  201705010600  31.0  34.0  31.0\n",
            "54     28450  201705011800  42.0  44.0  30.0\n",
            "90     28450  201705020600  41.0  42.0  35.0\n",
            "126    28450  201705021800  37.0  45.0  36.0\n",
            "161    28450  201705030600  37.0  37.0  33.0\n",
            "...      ...           ...   ...   ...   ...\n",
            "11640  29980  201708291800  62.0  64.0  58.0\n",
            "11652  29980  201708300600  60.0  62.0  59.0\n",
            "11664  29980  201708301800  63.0  67.0  60.0\n",
            "11676  29980  201708310600  61.0  63.0  59.0\n",
            "11688  29980  201708311800  64.0  66.0  61.0\n",
            "\n",
            "[485 rows x 5 columns]\n"
          ]
        }
      ],
      "source": [
        "selected = data[[\"USAF\",\"YR--MODAHRMN\",\"TEMP\",\"MAX\",\"MIN\"]].dropna()\n",
        "# YOUR CODE HERE\n",
        "print(selected)"
      ]
    },
    {
      "cell_type": "markdown",
      "id": "89ba3910",
      "metadata": {
        "id": "89ba3910"
      },
      "source": [
        "Check that you selected the correct column names:"
      ]
    },
    {
      "cell_type": "code",
      "execution_count": 81,
      "id": "b162ff84",
      "metadata": {
        "id": "b162ff84",
        "colab": {
          "base_uri": "https://localhost:8080/",
          "height": 206
        },
        "outputId": "e27a6f7a-d14d-4adc-86ae-b39874765fcc"
      },
      "outputs": [
        {
          "output_type": "execute_result",
          "data": {
            "text/plain": [
              "      USAF  YR--MODAHRMN  TEMP   MAX   MIN  Celsius\n",
              "18   28450  201705010600  31.0  34.0  31.0       -1\n",
              "54   28450  201705011800  42.0  44.0  30.0        6\n",
              "90   28450  201705020600  41.0  42.0  35.0        5\n",
              "126  28450  201705021800  37.0  45.0  36.0        3\n",
              "161  28450  201705030600  37.0  37.0  33.0        3"
            ],
            "text/html": [
              "\n",
              "  <div id=\"df-009bd976-ffcf-415b-bc2a-601f2aadf2e1\" class=\"colab-df-container\">\n",
              "    <div>\n",
              "<style scoped>\n",
              "    .dataframe tbody tr th:only-of-type {\n",
              "        vertical-align: middle;\n",
              "    }\n",
              "\n",
              "    .dataframe tbody tr th {\n",
              "        vertical-align: top;\n",
              "    }\n",
              "\n",
              "    .dataframe thead th {\n",
              "        text-align: right;\n",
              "    }\n",
              "</style>\n",
              "<table border=\"1\" class=\"dataframe\">\n",
              "  <thead>\n",
              "    <tr style=\"text-align: right;\">\n",
              "      <th></th>\n",
              "      <th>USAF</th>\n",
              "      <th>YR--MODAHRMN</th>\n",
              "      <th>TEMP</th>\n",
              "      <th>MAX</th>\n",
              "      <th>MIN</th>\n",
              "      <th>Celsius</th>\n",
              "    </tr>\n",
              "  </thead>\n",
              "  <tbody>\n",
              "    <tr>\n",
              "      <th>18</th>\n",
              "      <td>28450</td>\n",
              "      <td>201705010600</td>\n",
              "      <td>31.0</td>\n",
              "      <td>34.0</td>\n",
              "      <td>31.0</td>\n",
              "      <td>-1</td>\n",
              "    </tr>\n",
              "    <tr>\n",
              "      <th>54</th>\n",
              "      <td>28450</td>\n",
              "      <td>201705011800</td>\n",
              "      <td>42.0</td>\n",
              "      <td>44.0</td>\n",
              "      <td>30.0</td>\n",
              "      <td>6</td>\n",
              "    </tr>\n",
              "    <tr>\n",
              "      <th>90</th>\n",
              "      <td>28450</td>\n",
              "      <td>201705020600</td>\n",
              "      <td>41.0</td>\n",
              "      <td>42.0</td>\n",
              "      <td>35.0</td>\n",
              "      <td>5</td>\n",
              "    </tr>\n",
              "    <tr>\n",
              "      <th>126</th>\n",
              "      <td>28450</td>\n",
              "      <td>201705021800</td>\n",
              "      <td>37.0</td>\n",
              "      <td>45.0</td>\n",
              "      <td>36.0</td>\n",
              "      <td>3</td>\n",
              "    </tr>\n",
              "    <tr>\n",
              "      <th>161</th>\n",
              "      <td>28450</td>\n",
              "      <td>201705030600</td>\n",
              "      <td>37.0</td>\n",
              "      <td>37.0</td>\n",
              "      <td>33.0</td>\n",
              "      <td>3</td>\n",
              "    </tr>\n",
              "  </tbody>\n",
              "</table>\n",
              "</div>\n",
              "    <div class=\"colab-df-buttons\">\n",
              "\n",
              "  <div class=\"colab-df-container\">\n",
              "    <button class=\"colab-df-convert\" onclick=\"convertToInteractive('df-009bd976-ffcf-415b-bc2a-601f2aadf2e1')\"\n",
              "            title=\"Convert this dataframe to an interactive table.\"\n",
              "            style=\"display:none;\">\n",
              "\n",
              "  <svg xmlns=\"http://www.w3.org/2000/svg\" height=\"24px\" viewBox=\"0 -960 960 960\">\n",
              "    <path d=\"M120-120v-720h720v720H120Zm60-500h600v-160H180v160Zm220 220h160v-160H400v160Zm0 220h160v-160H400v160ZM180-400h160v-160H180v160Zm440 0h160v-160H620v160ZM180-180h160v-160H180v160Zm440 0h160v-160H620v160Z\"/>\n",
              "  </svg>\n",
              "    </button>\n",
              "\n",
              "  <style>\n",
              "    .colab-df-container {\n",
              "      display:flex;\n",
              "      gap: 12px;\n",
              "    }\n",
              "\n",
              "    .colab-df-convert {\n",
              "      background-color: #E8F0FE;\n",
              "      border: none;\n",
              "      border-radius: 50%;\n",
              "      cursor: pointer;\n",
              "      display: none;\n",
              "      fill: #1967D2;\n",
              "      height: 32px;\n",
              "      padding: 0 0 0 0;\n",
              "      width: 32px;\n",
              "    }\n",
              "\n",
              "    .colab-df-convert:hover {\n",
              "      background-color: #E2EBFA;\n",
              "      box-shadow: 0px 1px 2px rgba(60, 64, 67, 0.3), 0px 1px 3px 1px rgba(60, 64, 67, 0.15);\n",
              "      fill: #174EA6;\n",
              "    }\n",
              "\n",
              "    .colab-df-buttons div {\n",
              "      margin-bottom: 4px;\n",
              "    }\n",
              "\n",
              "    [theme=dark] .colab-df-convert {\n",
              "      background-color: #3B4455;\n",
              "      fill: #D2E3FC;\n",
              "    }\n",
              "\n",
              "    [theme=dark] .colab-df-convert:hover {\n",
              "      background-color: #434B5C;\n",
              "      box-shadow: 0px 1px 3px 1px rgba(0, 0, 0, 0.15);\n",
              "      filter: drop-shadow(0px 1px 2px rgba(0, 0, 0, 0.3));\n",
              "      fill: #FFFFFF;\n",
              "    }\n",
              "  </style>\n",
              "\n",
              "    <script>\n",
              "      const buttonEl =\n",
              "        document.querySelector('#df-009bd976-ffcf-415b-bc2a-601f2aadf2e1 button.colab-df-convert');\n",
              "      buttonEl.style.display =\n",
              "        google.colab.kernel.accessAllowed ? 'block' : 'none';\n",
              "\n",
              "      async function convertToInteractive(key) {\n",
              "        const element = document.querySelector('#df-009bd976-ffcf-415b-bc2a-601f2aadf2e1');\n",
              "        const dataTable =\n",
              "          await google.colab.kernel.invokeFunction('convertToInteractive',\n",
              "                                                    [key], {});\n",
              "        if (!dataTable) return;\n",
              "\n",
              "        const docLinkHtml = 'Like what you see? Visit the ' +\n",
              "          '<a target=\"_blank\" href=https://colab.research.google.com/notebooks/data_table.ipynb>data table notebook</a>'\n",
              "          + ' to learn more about interactive tables.';\n",
              "        element.innerHTML = '';\n",
              "        dataTable['output_type'] = 'display_data';\n",
              "        await google.colab.output.renderOutput(dataTable, element);\n",
              "        const docLink = document.createElement('div');\n",
              "        docLink.innerHTML = docLinkHtml;\n",
              "        element.appendChild(docLink);\n",
              "      }\n",
              "    </script>\n",
              "  </div>\n",
              "\n",
              "\n",
              "    <div id=\"df-fa2f8954-2a69-4dae-93b3-6cb6998526db\">\n",
              "      <button class=\"colab-df-quickchart\" onclick=\"quickchart('df-fa2f8954-2a69-4dae-93b3-6cb6998526db')\"\n",
              "                title=\"Suggest charts\"\n",
              "                style=\"display:none;\">\n",
              "\n",
              "<svg xmlns=\"http://www.w3.org/2000/svg\" height=\"24px\"viewBox=\"0 0 24 24\"\n",
              "     width=\"24px\">\n",
              "    <g>\n",
              "        <path d=\"M19 3H5c-1.1 0-2 .9-2 2v14c0 1.1.9 2 2 2h14c1.1 0 2-.9 2-2V5c0-1.1-.9-2-2-2zM9 17H7v-7h2v7zm4 0h-2V7h2v10zm4 0h-2v-4h2v4z\"/>\n",
              "    </g>\n",
              "</svg>\n",
              "      </button>\n",
              "\n",
              "<style>\n",
              "  .colab-df-quickchart {\n",
              "      --bg-color: #E8F0FE;\n",
              "      --fill-color: #1967D2;\n",
              "      --hover-bg-color: #E2EBFA;\n",
              "      --hover-fill-color: #174EA6;\n",
              "      --disabled-fill-color: #AAA;\n",
              "      --disabled-bg-color: #DDD;\n",
              "  }\n",
              "\n",
              "  [theme=dark] .colab-df-quickchart {\n",
              "      --bg-color: #3B4455;\n",
              "      --fill-color: #D2E3FC;\n",
              "      --hover-bg-color: #434B5C;\n",
              "      --hover-fill-color: #FFFFFF;\n",
              "      --disabled-bg-color: #3B4455;\n",
              "      --disabled-fill-color: #666;\n",
              "  }\n",
              "\n",
              "  .colab-df-quickchart {\n",
              "    background-color: var(--bg-color);\n",
              "    border: none;\n",
              "    border-radius: 50%;\n",
              "    cursor: pointer;\n",
              "    display: none;\n",
              "    fill: var(--fill-color);\n",
              "    height: 32px;\n",
              "    padding: 0;\n",
              "    width: 32px;\n",
              "  }\n",
              "\n",
              "  .colab-df-quickchart:hover {\n",
              "    background-color: var(--hover-bg-color);\n",
              "    box-shadow: 0 1px 2px rgba(60, 64, 67, 0.3), 0 1px 3px 1px rgba(60, 64, 67, 0.15);\n",
              "    fill: var(--button-hover-fill-color);\n",
              "  }\n",
              "\n",
              "  .colab-df-quickchart-complete:disabled,\n",
              "  .colab-df-quickchart-complete:disabled:hover {\n",
              "    background-color: var(--disabled-bg-color);\n",
              "    fill: var(--disabled-fill-color);\n",
              "    box-shadow: none;\n",
              "  }\n",
              "\n",
              "  .colab-df-spinner {\n",
              "    border: 2px solid var(--fill-color);\n",
              "    border-color: transparent;\n",
              "    border-bottom-color: var(--fill-color);\n",
              "    animation:\n",
              "      spin 1s steps(1) infinite;\n",
              "  }\n",
              "\n",
              "  @keyframes spin {\n",
              "    0% {\n",
              "      border-color: transparent;\n",
              "      border-bottom-color: var(--fill-color);\n",
              "      border-left-color: var(--fill-color);\n",
              "    }\n",
              "    20% {\n",
              "      border-color: transparent;\n",
              "      border-left-color: var(--fill-color);\n",
              "      border-top-color: var(--fill-color);\n",
              "    }\n",
              "    30% {\n",
              "      border-color: transparent;\n",
              "      border-left-color: var(--fill-color);\n",
              "      border-top-color: var(--fill-color);\n",
              "      border-right-color: var(--fill-color);\n",
              "    }\n",
              "    40% {\n",
              "      border-color: transparent;\n",
              "      border-right-color: var(--fill-color);\n",
              "      border-top-color: var(--fill-color);\n",
              "    }\n",
              "    60% {\n",
              "      border-color: transparent;\n",
              "      border-right-color: var(--fill-color);\n",
              "    }\n",
              "    80% {\n",
              "      border-color: transparent;\n",
              "      border-right-color: var(--fill-color);\n",
              "      border-bottom-color: var(--fill-color);\n",
              "    }\n",
              "    90% {\n",
              "      border-color: transparent;\n",
              "      border-bottom-color: var(--fill-color);\n",
              "    }\n",
              "  }\n",
              "</style>\n",
              "\n",
              "      <script>\n",
              "        async function quickchart(key) {\n",
              "          const quickchartButtonEl =\n",
              "            document.querySelector('#' + key + ' button');\n",
              "          quickchartButtonEl.disabled = true;  // To prevent multiple clicks.\n",
              "          quickchartButtonEl.classList.add('colab-df-spinner');\n",
              "          try {\n",
              "            const charts = await google.colab.kernel.invokeFunction(\n",
              "                'suggestCharts', [key], {});\n",
              "          } catch (error) {\n",
              "            console.error('Error during call to suggestCharts:', error);\n",
              "          }\n",
              "          quickchartButtonEl.classList.remove('colab-df-spinner');\n",
              "          quickchartButtonEl.classList.add('colab-df-quickchart-complete');\n",
              "        }\n",
              "        (() => {\n",
              "          let quickchartButtonEl =\n",
              "            document.querySelector('#df-fa2f8954-2a69-4dae-93b3-6cb6998526db button');\n",
              "          quickchartButtonEl.style.display =\n",
              "            google.colab.kernel.accessAllowed ? 'block' : 'none';\n",
              "        })();\n",
              "      </script>\n",
              "    </div>\n",
              "\n",
              "    </div>\n",
              "  </div>\n"
            ],
            "application/vnd.google.colaboratory.intrinsic+json": {
              "type": "dataframe",
              "variable_name": "selected",
              "summary": "{\n  \"name\": \"selected\",\n  \"rows\": 485,\n  \"fields\": [\n    {\n      \"column\": \"USAF\",\n      \"properties\": {\n        \"dtype\": \"number\",\n        \"std\": 765,\n        \"min\": 28450,\n        \"max\": 29980,\n        \"num_unique_values\": 2,\n        \"samples\": [\n          29980,\n          28450\n        ],\n        \"semantic_type\": \"\",\n        \"description\": \"\"\n      }\n    },\n    {\n      \"column\": \"YR--MODAHRMN\",\n      \"properties\": {\n        \"dtype\": \"number\",\n        \"std\": 1125706,\n        \"min\": 201705010600,\n        \"max\": 201708311800,\n        \"num_unique_values\": 244,\n        \"samples\": [\n          201705130600,\n          201705040600\n        ],\n        \"semantic_type\": \"\",\n        \"description\": \"\"\n      }\n    },\n    {\n      \"column\": \"TEMP\",\n      \"properties\": {\n        \"dtype\": \"number\",\n        \"std\": 9.680100036309504,\n        \"min\": 27.0,\n        \"max\": 73.0,\n        \"num_unique_values\": 47,\n        \"samples\": [\n          66.0,\n          67.0\n        ],\n        \"semantic_type\": \"\",\n        \"description\": \"\"\n      }\n    },\n    {\n      \"column\": \"MAX\",\n      \"properties\": {\n        \"dtype\": \"number\",\n        \"std\": 10.314246655766919,\n        \"min\": 29.0,\n        \"max\": 77.0,\n        \"num_unique_values\": 48,\n        \"samples\": [\n          69.0,\n          62.0\n        ],\n        \"semantic_type\": \"\",\n        \"description\": \"\"\n      }\n    },\n    {\n      \"column\": \"MIN\",\n      \"properties\": {\n        \"dtype\": \"number\",\n        \"std\": 9.7506979103259,\n        \"min\": 20.0,\n        \"max\": 67.0,\n        \"num_unique_values\": 44,\n        \"samples\": [\n          60.0,\n          46.0\n        ],\n        \"semantic_type\": \"\",\n        \"description\": \"\"\n      }\n    },\n    {\n      \"column\": \"Celsius\",\n      \"properties\": {\n        \"dtype\": \"number\",\n        \"std\": 5,\n        \"min\": -3,\n        \"max\": 23,\n        \"num_unique_values\": 27,\n        \"samples\": [\n          0,\n          7\n        ],\n        \"semantic_type\": \"\",\n        \"description\": \"\"\n      }\n    }\n  ]\n}"
            }
          },
          "metadata": {},
          "execution_count": 81
        }
      ],
      "source": [
        "selected.head()"
      ]
    },
    {
      "cell_type": "markdown",
      "id": "fe111008",
      "metadata": {
        "id": "fe111008"
      },
      "source": [
        "Check how many rows you have after removing the no-data values:"
      ]
    },
    {
      "cell_type": "code",
      "execution_count": 67,
      "id": "a0b53d6d",
      "metadata": {
        "id": "a0b53d6d",
        "colab": {
          "base_uri": "https://localhost:8080/"
        },
        "outputId": "4c956209-7d85-41b9-e3ed-5d71b49de4d5"
      },
      "outputs": [
        {
          "output_type": "execute_result",
          "data": {
            "text/plain": [
              "485"
            ]
          },
          "metadata": {},
          "execution_count": 67
        }
      ],
      "source": [
        "len(selected)"
      ]
    },
    {
      "cell_type": "markdown",
      "id": "2af5ef97",
      "metadata": {
        "id": "2af5ef97"
      },
      "source": [
        "### Part 3\n",
        "\n",
        "Next, you can convert the temperature values in Fahrenheit to Celsius.\n",
        "\n",
        "- Create a new column in `selected` called `Celsius`\n",
        "- Convert the Fahrenheit temperatures from `TEMP` using the conversion formula below and store the results in the new `Celsius` column.\n",
        "\n",
        "$$\n",
        "\\Large\n",
        "\\begin{equation}\n",
        "  T_{\\mathrm{Celsius}} = (T_{\\mathrm{Fahrenheit}} - 32)~/~1.8\n",
        "\\end{equation}\n",
        "$$\n",
        "\n",
        "- Round the values in the `Celsius` column to have 0 decimals (**do not** create a new column, update the current one)\n",
        "- Convert the `Celsius` values into integers (**do not** create a new column, update the current one)"
      ]
    },
    {
      "cell_type": "code",
      "execution_count": 77,
      "id": "db80f343",
      "metadata": {
        "id": "db80f343",
        "colab": {
          "base_uri": "https://localhost:8080/"
        },
        "outputId": "5ff48900-a5b0-4e4a-9750-b36f5bf7eee0"
      },
      "outputs": [
        {
          "output_type": "stream",
          "name": "stdout",
          "text": [
            "        USAF  YR--MODAHRMN  TEMP   MAX   MIN  Celsius\n",
            "18     28450  201705010600  31.0  34.0  31.0       -1\n",
            "54     28450  201705011800  42.0  44.0  30.0        6\n",
            "90     28450  201705020600  41.0  42.0  35.0        5\n",
            "126    28450  201705021800  37.0  45.0  36.0        3\n",
            "161    28450  201705030600  37.0  37.0  33.0        3\n",
            "...      ...           ...   ...   ...   ...      ...\n",
            "11640  29980  201708291800  62.0  64.0  58.0       17\n",
            "11652  29980  201708300600  60.0  62.0  59.0       16\n",
            "11664  29980  201708301800  63.0  67.0  60.0       17\n",
            "11676  29980  201708310600  61.0  63.0  59.0       16\n",
            "11688  29980  201708311800  64.0  66.0  61.0       18\n",
            "\n",
            "[485 rows x 6 columns]\n"
          ]
        }
      ],
      "source": [
        "# YOUR CODE HERE\n",
        "temp =[]\n",
        "for temp_fah_ht in selected['TEMP']:\n",
        "    temp_celius = (temp_fah_ht-32)/1.8\n",
        "    temp.append(round(temp_celius))\n",
        "\n",
        "selected['Celsius'] = temp\n",
        "print(selected)\n",
        "\n"
      ]
    },
    {
      "cell_type": "code",
      "execution_count": 82,
      "id": "b562050b",
      "metadata": {
        "id": "b562050b",
        "colab": {
          "base_uri": "https://localhost:8080/",
          "height": 206
        },
        "outputId": "e13dc8c8-9cd1-4aa0-d488-78a27d9a286b"
      },
      "outputs": [
        {
          "output_type": "execute_result",
          "data": {
            "text/plain": [
              "      USAF  YR--MODAHRMN  TEMP   MAX   MIN  Celsius\n",
              "18   28450  201705010600  31.0  34.0  31.0       -1\n",
              "54   28450  201705011800  42.0  44.0  30.0        6\n",
              "90   28450  201705020600  41.0  42.0  35.0        5\n",
              "126  28450  201705021800  37.0  45.0  36.0        3\n",
              "161  28450  201705030600  37.0  37.0  33.0        3"
            ],
            "text/html": [
              "\n",
              "  <div id=\"df-cc7976cf-351b-446c-9b41-e7aa65e457fe\" class=\"colab-df-container\">\n",
              "    <div>\n",
              "<style scoped>\n",
              "    .dataframe tbody tr th:only-of-type {\n",
              "        vertical-align: middle;\n",
              "    }\n",
              "\n",
              "    .dataframe tbody tr th {\n",
              "        vertical-align: top;\n",
              "    }\n",
              "\n",
              "    .dataframe thead th {\n",
              "        text-align: right;\n",
              "    }\n",
              "</style>\n",
              "<table border=\"1\" class=\"dataframe\">\n",
              "  <thead>\n",
              "    <tr style=\"text-align: right;\">\n",
              "      <th></th>\n",
              "      <th>USAF</th>\n",
              "      <th>YR--MODAHRMN</th>\n",
              "      <th>TEMP</th>\n",
              "      <th>MAX</th>\n",
              "      <th>MIN</th>\n",
              "      <th>Celsius</th>\n",
              "    </tr>\n",
              "  </thead>\n",
              "  <tbody>\n",
              "    <tr>\n",
              "      <th>18</th>\n",
              "      <td>28450</td>\n",
              "      <td>201705010600</td>\n",
              "      <td>31.0</td>\n",
              "      <td>34.0</td>\n",
              "      <td>31.0</td>\n",
              "      <td>-1</td>\n",
              "    </tr>\n",
              "    <tr>\n",
              "      <th>54</th>\n",
              "      <td>28450</td>\n",
              "      <td>201705011800</td>\n",
              "      <td>42.0</td>\n",
              "      <td>44.0</td>\n",
              "      <td>30.0</td>\n",
              "      <td>6</td>\n",
              "    </tr>\n",
              "    <tr>\n",
              "      <th>90</th>\n",
              "      <td>28450</td>\n",
              "      <td>201705020600</td>\n",
              "      <td>41.0</td>\n",
              "      <td>42.0</td>\n",
              "      <td>35.0</td>\n",
              "      <td>5</td>\n",
              "    </tr>\n",
              "    <tr>\n",
              "      <th>126</th>\n",
              "      <td>28450</td>\n",
              "      <td>201705021800</td>\n",
              "      <td>37.0</td>\n",
              "      <td>45.0</td>\n",
              "      <td>36.0</td>\n",
              "      <td>3</td>\n",
              "    </tr>\n",
              "    <tr>\n",
              "      <th>161</th>\n",
              "      <td>28450</td>\n",
              "      <td>201705030600</td>\n",
              "      <td>37.0</td>\n",
              "      <td>37.0</td>\n",
              "      <td>33.0</td>\n",
              "      <td>3</td>\n",
              "    </tr>\n",
              "  </tbody>\n",
              "</table>\n",
              "</div>\n",
              "    <div class=\"colab-df-buttons\">\n",
              "\n",
              "  <div class=\"colab-df-container\">\n",
              "    <button class=\"colab-df-convert\" onclick=\"convertToInteractive('df-cc7976cf-351b-446c-9b41-e7aa65e457fe')\"\n",
              "            title=\"Convert this dataframe to an interactive table.\"\n",
              "            style=\"display:none;\">\n",
              "\n",
              "  <svg xmlns=\"http://www.w3.org/2000/svg\" height=\"24px\" viewBox=\"0 -960 960 960\">\n",
              "    <path d=\"M120-120v-720h720v720H120Zm60-500h600v-160H180v160Zm220 220h160v-160H400v160Zm0 220h160v-160H400v160ZM180-400h160v-160H180v160Zm440 0h160v-160H620v160ZM180-180h160v-160H180v160Zm440 0h160v-160H620v160Z\"/>\n",
              "  </svg>\n",
              "    </button>\n",
              "\n",
              "  <style>\n",
              "    .colab-df-container {\n",
              "      display:flex;\n",
              "      gap: 12px;\n",
              "    }\n",
              "\n",
              "    .colab-df-convert {\n",
              "      background-color: #E8F0FE;\n",
              "      border: none;\n",
              "      border-radius: 50%;\n",
              "      cursor: pointer;\n",
              "      display: none;\n",
              "      fill: #1967D2;\n",
              "      height: 32px;\n",
              "      padding: 0 0 0 0;\n",
              "      width: 32px;\n",
              "    }\n",
              "\n",
              "    .colab-df-convert:hover {\n",
              "      background-color: #E2EBFA;\n",
              "      box-shadow: 0px 1px 2px rgba(60, 64, 67, 0.3), 0px 1px 3px 1px rgba(60, 64, 67, 0.15);\n",
              "      fill: #174EA6;\n",
              "    }\n",
              "\n",
              "    .colab-df-buttons div {\n",
              "      margin-bottom: 4px;\n",
              "    }\n",
              "\n",
              "    [theme=dark] .colab-df-convert {\n",
              "      background-color: #3B4455;\n",
              "      fill: #D2E3FC;\n",
              "    }\n",
              "\n",
              "    [theme=dark] .colab-df-convert:hover {\n",
              "      background-color: #434B5C;\n",
              "      box-shadow: 0px 1px 3px 1px rgba(0, 0, 0, 0.15);\n",
              "      filter: drop-shadow(0px 1px 2px rgba(0, 0, 0, 0.3));\n",
              "      fill: #FFFFFF;\n",
              "    }\n",
              "  </style>\n",
              "\n",
              "    <script>\n",
              "      const buttonEl =\n",
              "        document.querySelector('#df-cc7976cf-351b-446c-9b41-e7aa65e457fe button.colab-df-convert');\n",
              "      buttonEl.style.display =\n",
              "        google.colab.kernel.accessAllowed ? 'block' : 'none';\n",
              "\n",
              "      async function convertToInteractive(key) {\n",
              "        const element = document.querySelector('#df-cc7976cf-351b-446c-9b41-e7aa65e457fe');\n",
              "        const dataTable =\n",
              "          await google.colab.kernel.invokeFunction('convertToInteractive',\n",
              "                                                    [key], {});\n",
              "        if (!dataTable) return;\n",
              "\n",
              "        const docLinkHtml = 'Like what you see? Visit the ' +\n",
              "          '<a target=\"_blank\" href=https://colab.research.google.com/notebooks/data_table.ipynb>data table notebook</a>'\n",
              "          + ' to learn more about interactive tables.';\n",
              "        element.innerHTML = '';\n",
              "        dataTable['output_type'] = 'display_data';\n",
              "        await google.colab.output.renderOutput(dataTable, element);\n",
              "        const docLink = document.createElement('div');\n",
              "        docLink.innerHTML = docLinkHtml;\n",
              "        element.appendChild(docLink);\n",
              "      }\n",
              "    </script>\n",
              "  </div>\n",
              "\n",
              "\n",
              "    <div id=\"df-748543b1-b0e0-4463-84db-15bc0c388f0a\">\n",
              "      <button class=\"colab-df-quickchart\" onclick=\"quickchart('df-748543b1-b0e0-4463-84db-15bc0c388f0a')\"\n",
              "                title=\"Suggest charts\"\n",
              "                style=\"display:none;\">\n",
              "\n",
              "<svg xmlns=\"http://www.w3.org/2000/svg\" height=\"24px\"viewBox=\"0 0 24 24\"\n",
              "     width=\"24px\">\n",
              "    <g>\n",
              "        <path d=\"M19 3H5c-1.1 0-2 .9-2 2v14c0 1.1.9 2 2 2h14c1.1 0 2-.9 2-2V5c0-1.1-.9-2-2-2zM9 17H7v-7h2v7zm4 0h-2V7h2v10zm4 0h-2v-4h2v4z\"/>\n",
              "    </g>\n",
              "</svg>\n",
              "      </button>\n",
              "\n",
              "<style>\n",
              "  .colab-df-quickchart {\n",
              "      --bg-color: #E8F0FE;\n",
              "      --fill-color: #1967D2;\n",
              "      --hover-bg-color: #E2EBFA;\n",
              "      --hover-fill-color: #174EA6;\n",
              "      --disabled-fill-color: #AAA;\n",
              "      --disabled-bg-color: #DDD;\n",
              "  }\n",
              "\n",
              "  [theme=dark] .colab-df-quickchart {\n",
              "      --bg-color: #3B4455;\n",
              "      --fill-color: #D2E3FC;\n",
              "      --hover-bg-color: #434B5C;\n",
              "      --hover-fill-color: #FFFFFF;\n",
              "      --disabled-bg-color: #3B4455;\n",
              "      --disabled-fill-color: #666;\n",
              "  }\n",
              "\n",
              "  .colab-df-quickchart {\n",
              "    background-color: var(--bg-color);\n",
              "    border: none;\n",
              "    border-radius: 50%;\n",
              "    cursor: pointer;\n",
              "    display: none;\n",
              "    fill: var(--fill-color);\n",
              "    height: 32px;\n",
              "    padding: 0;\n",
              "    width: 32px;\n",
              "  }\n",
              "\n",
              "  .colab-df-quickchart:hover {\n",
              "    background-color: var(--hover-bg-color);\n",
              "    box-shadow: 0 1px 2px rgba(60, 64, 67, 0.3), 0 1px 3px 1px rgba(60, 64, 67, 0.15);\n",
              "    fill: var(--button-hover-fill-color);\n",
              "  }\n",
              "\n",
              "  .colab-df-quickchart-complete:disabled,\n",
              "  .colab-df-quickchart-complete:disabled:hover {\n",
              "    background-color: var(--disabled-bg-color);\n",
              "    fill: var(--disabled-fill-color);\n",
              "    box-shadow: none;\n",
              "  }\n",
              "\n",
              "  .colab-df-spinner {\n",
              "    border: 2px solid var(--fill-color);\n",
              "    border-color: transparent;\n",
              "    border-bottom-color: var(--fill-color);\n",
              "    animation:\n",
              "      spin 1s steps(1) infinite;\n",
              "  }\n",
              "\n",
              "  @keyframes spin {\n",
              "    0% {\n",
              "      border-color: transparent;\n",
              "      border-bottom-color: var(--fill-color);\n",
              "      border-left-color: var(--fill-color);\n",
              "    }\n",
              "    20% {\n",
              "      border-color: transparent;\n",
              "      border-left-color: var(--fill-color);\n",
              "      border-top-color: var(--fill-color);\n",
              "    }\n",
              "    30% {\n",
              "      border-color: transparent;\n",
              "      border-left-color: var(--fill-color);\n",
              "      border-top-color: var(--fill-color);\n",
              "      border-right-color: var(--fill-color);\n",
              "    }\n",
              "    40% {\n",
              "      border-color: transparent;\n",
              "      border-right-color: var(--fill-color);\n",
              "      border-top-color: var(--fill-color);\n",
              "    }\n",
              "    60% {\n",
              "      border-color: transparent;\n",
              "      border-right-color: var(--fill-color);\n",
              "    }\n",
              "    80% {\n",
              "      border-color: transparent;\n",
              "      border-right-color: var(--fill-color);\n",
              "      border-bottom-color: var(--fill-color);\n",
              "    }\n",
              "    90% {\n",
              "      border-color: transparent;\n",
              "      border-bottom-color: var(--fill-color);\n",
              "    }\n",
              "  }\n",
              "</style>\n",
              "\n",
              "      <script>\n",
              "        async function quickchart(key) {\n",
              "          const quickchartButtonEl =\n",
              "            document.querySelector('#' + key + ' button');\n",
              "          quickchartButtonEl.disabled = true;  // To prevent multiple clicks.\n",
              "          quickchartButtonEl.classList.add('colab-df-spinner');\n",
              "          try {\n",
              "            const charts = await google.colab.kernel.invokeFunction(\n",
              "                'suggestCharts', [key], {});\n",
              "          } catch (error) {\n",
              "            console.error('Error during call to suggestCharts:', error);\n",
              "          }\n",
              "          quickchartButtonEl.classList.remove('colab-df-spinner');\n",
              "          quickchartButtonEl.classList.add('colab-df-quickchart-complete');\n",
              "        }\n",
              "        (() => {\n",
              "          let quickchartButtonEl =\n",
              "            document.querySelector('#df-748543b1-b0e0-4463-84db-15bc0c388f0a button');\n",
              "          quickchartButtonEl.style.display =\n",
              "            google.colab.kernel.accessAllowed ? 'block' : 'none';\n",
              "        })();\n",
              "      </script>\n",
              "    </div>\n",
              "\n",
              "    </div>\n",
              "  </div>\n"
            ],
            "application/vnd.google.colaboratory.intrinsic+json": {
              "type": "dataframe",
              "variable_name": "selected",
              "summary": "{\n  \"name\": \"selected\",\n  \"rows\": 485,\n  \"fields\": [\n    {\n      \"column\": \"USAF\",\n      \"properties\": {\n        \"dtype\": \"number\",\n        \"std\": 765,\n        \"min\": 28450,\n        \"max\": 29980,\n        \"num_unique_values\": 2,\n        \"samples\": [\n          29980,\n          28450\n        ],\n        \"semantic_type\": \"\",\n        \"description\": \"\"\n      }\n    },\n    {\n      \"column\": \"YR--MODAHRMN\",\n      \"properties\": {\n        \"dtype\": \"number\",\n        \"std\": 1125706,\n        \"min\": 201705010600,\n        \"max\": 201708311800,\n        \"num_unique_values\": 244,\n        \"samples\": [\n          201705130600,\n          201705040600\n        ],\n        \"semantic_type\": \"\",\n        \"description\": \"\"\n      }\n    },\n    {\n      \"column\": \"TEMP\",\n      \"properties\": {\n        \"dtype\": \"number\",\n        \"std\": 9.680100036309504,\n        \"min\": 27.0,\n        \"max\": 73.0,\n        \"num_unique_values\": 47,\n        \"samples\": [\n          66.0,\n          67.0\n        ],\n        \"semantic_type\": \"\",\n        \"description\": \"\"\n      }\n    },\n    {\n      \"column\": \"MAX\",\n      \"properties\": {\n        \"dtype\": \"number\",\n        \"std\": 10.314246655766919,\n        \"min\": 29.0,\n        \"max\": 77.0,\n        \"num_unique_values\": 48,\n        \"samples\": [\n          69.0,\n          62.0\n        ],\n        \"semantic_type\": \"\",\n        \"description\": \"\"\n      }\n    },\n    {\n      \"column\": \"MIN\",\n      \"properties\": {\n        \"dtype\": \"number\",\n        \"std\": 9.7506979103259,\n        \"min\": 20.0,\n        \"max\": 67.0,\n        \"num_unique_values\": 44,\n        \"samples\": [\n          60.0,\n          46.0\n        ],\n        \"semantic_type\": \"\",\n        \"description\": \"\"\n      }\n    },\n    {\n      \"column\": \"Celsius\",\n      \"properties\": {\n        \"dtype\": \"number\",\n        \"std\": 5,\n        \"min\": -3,\n        \"max\": 23,\n        \"num_unique_values\": 27,\n        \"samples\": [\n          0,\n          7\n        ],\n        \"semantic_type\": \"\",\n        \"description\": \"\"\n      }\n    }\n  ]\n}"
            }
          },
          "metadata": {},
          "execution_count": 82
        }
      ],
      "source": [
        "# Check your dataframe\n",
        "selected.head()"
      ]
    },
    {
      "cell_type": "code",
      "execution_count": 83,
      "id": "07ffe10e",
      "metadata": {
        "id": "07ffe10e",
        "colab": {
          "base_uri": "https://localhost:8080/"
        },
        "outputId": "15ca9e85-b834-453f-a7f7-e452ee6d76d9"
      },
      "outputs": [
        {
          "output_type": "stream",
          "name": "stdout",
          "text": [
            "USAF              int64\n",
            "YR--MODAHRMN      int64\n",
            "TEMP            float64\n",
            "MAX             float64\n",
            "MIN             float64\n",
            "Celsius           int64\n",
            "dtype: object\n"
          ]
        }
      ],
      "source": [
        "# Check data types\n",
        "print(selected.dtypes)"
      ]
    },
    {
      "cell_type": "markdown",
      "id": "defdd1eb",
      "metadata": {
        "id": "defdd1eb"
      },
      "source": [
        "### Part 4\n",
        "\n",
        "Your next task is to divide `selected` into two separate dataframes. Please use the given variable names and write your answer to the codeblock below.\n",
        "\n",
        "- Select all rows from the `selected` DataFrame with the `USAF` code `29980` into a variable called `Station1`\n",
        "- Select all rows from the `selected` DataFrame with the `USAF` code `28450` into a variable called `Station2`"
      ]
    },
    {
      "cell_type": "code",
      "execution_count": 94,
      "id": "9edfdd66",
      "metadata": {
        "id": "9edfdd66",
        "colab": {
          "base_uri": "https://localhost:8080/"
        },
        "outputId": "67912f36-80d9-49b9-9932-d2b20c7f095b"
      },
      "outputs": [
        {
          "output_type": "stream",
          "name": "stdout",
          "text": [
            "        USAF  YR--MODAHRMN  TEMP   MAX   MIN  Celsius\n",
            "8776   29980  201705010600  44.0  44.0  35.0        7\n",
            "8788   29980  201705011800  48.0  54.0  43.0        9\n",
            "8800   29980  201705020600  50.0  50.0  34.0       10\n",
            "8812   29980  201705021800  53.0  61.0  49.0       12\n",
            "8824   29980  201705030600  47.0  53.0  38.0        8\n",
            "...      ...           ...   ...   ...   ...      ...\n",
            "11640  29980  201708291800  62.0  64.0  58.0       17\n",
            "11652  29980  201708300600  60.0  62.0  59.0       16\n",
            "11664  29980  201708301800  63.0  67.0  60.0       17\n",
            "11676  29980  201708310600  61.0  63.0  59.0       16\n",
            "11688  29980  201708311800  64.0  66.0  61.0       18\n",
            "\n",
            "[243 rows x 6 columns]\n",
            "       USAF  YR--MODAHRMN  TEMP   MAX   MIN  Celsius\n",
            "18    28450  201705010600  31.0  34.0  31.0       -1\n",
            "54    28450  201705011800  42.0  44.0  30.0        6\n",
            "90    28450  201705020600  41.0  42.0  35.0        5\n",
            "126   28450  201705021800  37.0  45.0  36.0        3\n",
            "161   28450  201705030600  37.0  37.0  33.0        3\n",
            "...     ...           ...   ...   ...   ...      ...\n",
            "8608  28450  201708291800  54.0  54.0  48.0       12\n",
            "8644  28450  201708300600  50.0  54.0  50.0       10\n",
            "8680  28450  201708301800  52.0  58.0  50.0       11\n",
            "8716  28450  201708310600  51.0  52.0  47.0       11\n",
            "8752  28450  201708311800  55.0  63.0  51.0       13\n",
            "\n",
            "[242 rows x 6 columns]\n"
          ]
        }
      ],
      "source": [
        "Station1 = selected[selected['USAF'] == 29980]\n",
        "Station2 = selected[selected['USAF'] == 28450]\n",
        "\n",
        "# YOUR CODE HERE\n",
        "print(Station1)\n",
        "print(Station2)"
      ]
    },
    {
      "cell_type": "code",
      "execution_count": 95,
      "id": "8da94b0d",
      "metadata": {
        "id": "8da94b0d",
        "colab": {
          "base_uri": "https://localhost:8080/"
        },
        "outputId": "a268f704-0efd-4b88-98a0-1b8b116f51c9"
      },
      "outputs": [
        {
          "output_type": "stream",
          "name": "stdout",
          "text": [
            "Station1: \n",
            "       USAF  YR--MODAHRMN  TEMP   MAX   MIN  Celsius\n",
            "8776  29980  201705010600  44.0  44.0  35.0        7\n",
            "8788  29980  201705011800  48.0  54.0  43.0        9\n",
            "8800  29980  201705020600  50.0  50.0  34.0       10\n",
            "8812  29980  201705021800  53.0  61.0  49.0       12\n",
            "8824  29980  201705030600  47.0  53.0  38.0        8\n",
            "\n"
          ]
        }
      ],
      "source": [
        "# Check the dataframe\n",
        "print(f\"Station1: \\n{Station1.head()}\\n\")"
      ]
    },
    {
      "cell_type": "code",
      "execution_count": 96,
      "id": "efd7389f",
      "metadata": {
        "id": "efd7389f",
        "colab": {
          "base_uri": "https://localhost:8080/"
        },
        "outputId": "cd1e4664-05a3-4599-89d4-2e555d21a233"
      },
      "outputs": [
        {
          "output_type": "stream",
          "name": "stdout",
          "text": [
            "Station2: \n",
            "      USAF  YR--MODAHRMN  TEMP   MAX   MIN  Celsius\n",
            "18   28450  201705010600  31.0  34.0  31.0       -1\n",
            "54   28450  201705011800  42.0  44.0  30.0        6\n",
            "90   28450  201705020600  41.0  42.0  35.0        5\n",
            "126  28450  201705021800  37.0  45.0  36.0        3\n",
            "161  28450  201705030600  37.0  37.0  33.0        3\n",
            "\n"
          ]
        }
      ],
      "source": [
        "# Check the dataframe\n",
        "print(f\"Station2: \\n{Station2.head()}\\n\")"
      ]
    },
    {
      "cell_type": "markdown",
      "id": "856691ea",
      "metadata": {
        "id": "856691ea"
      },
      "source": [
        "### Part 5\n",
        "\n",
        "Now you can save your selections to csv files.\n",
        "\n",
        "- Save the `Station1` DataFrame into the file `Station1.csv` (CSV format)\n",
        "    - Separate the columns with commas (`,`)\n",
        "    - Use only 2 decimals for the floating point numbers\n",
        "- Save the `Station2` DataFrame into the file `Station2.csv` (CSV format)\n",
        "    - Separate the columns with commas (`,`)\n",
        "    - Use only 2 decimals for the floating point numbers\n"
      ]
    },
    {
      "cell_type": "code",
      "execution_count": 102,
      "id": "e379e701",
      "metadata": {
        "id": "e379e701"
      },
      "outputs": [],
      "source": [
        "# YOUR CODE HERE\n",
        "Station1.to_csv(\"/content/sample_data/Station1.csv\",index=False)\n",
        "Station2.to_csv(\"/content/sample_data/Station2.csv\",index=False)\n"
      ]
    },
    {
      "cell_type": "markdown",
      "id": "ede6b82c",
      "metadata": {
        "id": "ede6b82c"
      },
      "source": [
        "### Assignment  2 summary\n",
        "\n",
        "- Was anything unclear to you in Assignment 2?\n",
        "- Did you encounter any problems?\n",
        "\n",
        "\n",
        "Please write your answers and comments below."
      ]
    },
    {
      "cell_type": "markdown",
      "id": "7d0599c8-e258-4407-83b0-35a7cc632398",
      "metadata": {
        "id": "7d0599c8-e258-4407-83b0-35a7cc632398"
      },
      "source": [
        "Sources for the exercise : https://geo-python-site.readthedocs.io/en/latest/ running on a Attribution-ShareAlike 4.0 International Licence https://creativecommons.org/licenses/by-sa/4.0/deed.en"
      ]
    },
    {
      "cell_type": "code",
      "execution_count": null,
      "id": "585d65fc-5163-446b-b533-148d68d46767",
      "metadata": {
        "id": "585d65fc-5163-446b-b533-148d68d46767"
      },
      "outputs": [],
      "source": []
    }
  ],
  "metadata": {
    "colab": {
      "provenance": [],
      "include_colab_link": true
    },
    "kernelspec": {
      "display_name": "Python 3 (ipykernel)",
      "language": "python",
      "name": "python3"
    },
    "language_info": {
      "codemirror_mode": {
        "name": "ipython",
        "version": 3
      },
      "file_extension": ".py",
      "mimetype": "text/x-python",
      "name": "python",
      "nbconvert_exporter": "python",
      "pygments_lexer": "ipython3",
      "version": "3.11.7"
    }
  },
  "nbformat": 4,
  "nbformat_minor": 5
}