{
  "cells": [
    {
      "cell_type": "markdown",
      "id": "2451ae4e",
      "metadata": {
        "id": "2451ae4e"
      },
      "source": [
        "## Assignment 2 - Data manipulation and selection\n",
        "\n",
        "In this problem you will clean the data from our data file by removing no-data values, convert temperature values in Fahrenheit to Celsius, and split the data into separate datasets using the weather station identification code. We will start this problem by cleaning and converting our temperature data. Please perform the tasks below by writing your code into the codeblocks in each section.\n",
        "\n",
        "\n",
        "### Scores for this problem\n",
        "\n",
        "**Your score on this problem will be based on following criteria:**\n",
        "\n",
        "- Creating a new dataframe called `selected` that contains select columns from the data file\n",
        "- Cleaning the new dataframe by removing no-data values\n",
        "- Creating a new column for temperatures converted from Fahrenheit to Celsius\n",
        "- Dividing the data into separate dataframes for the Station1 and Station2\n",
        "- Saving the new dataframes to CSV files\n",
        "- Including comments that explain what most lines in the code do\n",
        "- Answering a couple questions at the end of the problem\n"
      ]
    },
    {
      "cell_type": "markdown",
      "id": "ae35f19d",
      "metadata": {
        "id": "ae35f19d"
      },
      "source": [
        "### Part 1\n",
        "\n",
        "The first step for this problem is to read the data file `6153237444115dat.csv` again into a variable `data` using pandas. Remember to specify the no-data values (you can copy your code from assignment 1)."
      ]
    },
    {
      "cell_type": "code",
      "execution_count": null,
      "id": "175ce028",
      "metadata": {
        "id": "175ce028"
      },
      "outputs": [],
      "source": [
        "data = None\n",
        "\n",
        "# YOUR CODE HERE\n"
      ]
    },
    {
      "cell_type": "markdown",
      "id": "b626b191",
      "metadata": {
        "id": "b626b191"
      },
      "source": [
        "Check that the first rows of the DataFrame look ok:"
      ]
    },
    {
      "cell_type": "code",
      "execution_count": null,
      "id": "7e232f0e",
      "metadata": {
        "id": "7e232f0e"
      },
      "outputs": [],
      "source": []
    },
    {
      "cell_type": "markdown",
      "id": "0d46b620",
      "metadata": {
        "id": "0d46b620"
      },
      "source": [
        "Check the number of rows in the DataFrame:"
      ]
    },
    {
      "cell_type": "code",
      "execution_count": null,
      "id": "4bf4be11",
      "metadata": {
        "id": "4bf4be11"
      },
      "outputs": [],
      "source": []
    },
    {
      "cell_type": "markdown",
      "id": "c87f1e57",
      "metadata": {
        "id": "c87f1e57"
      },
      "source": [
        "### Part 2\n",
        "\n",
        "Next, your task is to subset the data and remove rows with missing temperature values.\n",
        "\n",
        "- Select the columns `USAF`, `YR--MODAHRMN`, `TEMP`, `MAX`, and `MIN` from the `data` dataframe and assign them to the variable `selected`\n",
        "- Remove all rows from `selected` that have NoData in the column `TEMP` using the `dropna()` function"
      ]
    },
    {
      "cell_type": "code",
      "execution_count": null,
      "id": "84b60f7c",
      "metadata": {
        "id": "84b60f7c"
      },
      "outputs": [],
      "source": [
        "selected = None\n",
        "\n",
        "# YOUR CODE HERE\n"
      ]
    },
    {
      "cell_type": "markdown",
      "id": "89ba3910",
      "metadata": {
        "id": "89ba3910"
      },
      "source": [
        "Check that you selected the correct column names:"
      ]
    },
    {
      "cell_type": "code",
      "execution_count": null,
      "id": "b162ff84",
      "metadata": {
        "id": "b162ff84"
      },
      "outputs": [],
      "source": [
        "selected.head()"
      ]
    },
    {
      "cell_type": "markdown",
      "id": "fe111008",
      "metadata": {
        "id": "fe111008"
      },
      "source": [
        "Check how many rows you have after removing the no-data values:"
      ]
    },
    {
      "cell_type": "code",
      "execution_count": null,
      "id": "a0b53d6d",
      "metadata": {
        "id": "a0b53d6d"
      },
      "outputs": [],
      "source": [
        "len(selected)"
      ]
    },
    {
      "cell_type": "markdown",
      "id": "2af5ef97",
      "metadata": {
        "id": "2af5ef97"
      },
      "source": [
        "### Part 3\n",
        "\n",
        "Next, you can convert the temperature values in Fahrenheit to Celsius.\n",
        "\n",
        "- Create a new column in `selected` called `Celsius`\n",
        "- Convert the Fahrenheit temperatures from `TEMP` using the conversion formula below and store the results in the new `Celsius` column.\n",
        "\n",
        "$$\n",
        "\\Large\n",
        "\\begin{equation}\n",
        "  T_{\\mathrm{Celsius}} = (T_{\\mathrm{Fahrenheit}} - 32)~/~1.8\n",
        "\\end{equation}\n",
        "$$\n",
        "\n",
        "- Round the values in the `Celsius` column to have 0 decimals (**do not** create a new column, update the current one)\n",
        "- Convert the `Celsius` values into integers (**do not** create a new column, update the current one)"
      ]
    },
    {
      "cell_type": "code",
      "execution_count": null,
      "id": "db80f343",
      "metadata": {
        "id": "db80f343"
      },
      "outputs": [],
      "source": [
        "# YOUR CODE HERE\n",
        "raise NotImplementedError()"
      ]
    },
    {
      "cell_type": "code",
      "execution_count": null,
      "id": "b562050b",
      "metadata": {
        "id": "b562050b"
      },
      "outputs": [],
      "source": [
        "# Check your dataframe\n",
        "selected.head()"
      ]
    },
    {
      "cell_type": "code",
      "execution_count": null,
      "id": "07ffe10e",
      "metadata": {
        "id": "07ffe10e"
      },
      "outputs": [],
      "source": [
        "# Check data types\n",
        "print(selected.dtypes)"
      ]
    },
    {
      "cell_type": "markdown",
      "id": "defdd1eb",
      "metadata": {
        "id": "defdd1eb"
      },
      "source": [
        "### Part 4\n",
        "\n",
        "Your next task is to divide `selected` into two separate dataframes. Please use the given variable names and write your answer to the codeblock below.\n",
        "\n",
        "- Select all rows from the `selected` DataFrame with the `USAF` code `29980` into a variable called `Station1`\n",
        "- Select all rows from the `selected` DataFrame with the `USAF` code `28450` into a variable called `Station2`"
      ]
    },
    {
      "cell_type": "code",
      "execution_count": null,
      "id": "9edfdd66",
      "metadata": {
        "id": "9edfdd66"
      },
      "outputs": [],
      "source": [
        "Station1 = None\n",
        "Station2 = None\n",
        "\n",
        "# YOUR CODE HERE\n",
        "raise NotImplementedError()"
      ]
    },
    {
      "cell_type": "code",
      "execution_count": null,
      "id": "8da94b0d",
      "metadata": {
        "id": "8da94b0d"
      },
      "outputs": [],
      "source": [
        "# Check the dataframe\n",
        "print(f\"Station1: \\n{Station1.head()}\\n\")"
      ]
    },
    {
      "cell_type": "code",
      "execution_count": null,
      "id": "efd7389f",
      "metadata": {
        "id": "efd7389f"
      },
      "outputs": [],
      "source": [
        "# Check the dataframe\n",
        "print(f\"Station2: \\n{Station2.head()}\\n\")"
      ]
    },
    {
      "cell_type": "markdown",
      "id": "856691ea",
      "metadata": {
        "id": "856691ea"
      },
      "source": [
        "### Part 5\n",
        "\n",
        "Now you can save your selections to csv files.\n",
        "\n",
        "- Save the `Station1` DataFrame into the file `Station1.csv` (CSV format)\n",
        "    - Separate the columns with commas (`,`)\n",
        "    - Use only 2 decimals for the floating point numbers\n",
        "- Save the `Station2` DataFrame into the file `Station2.csv` (CSV format)\n",
        "    - Separate the columns with commas (`,`)\n",
        "    - Use only 2 decimals for the floating point numbers\n",
        "- Remember to commit both data files to your Exercise 5 repository"
      ]
    },
    {
      "cell_type": "code",
      "execution_count": null,
      "id": "e379e701",
      "metadata": {
        "id": "e379e701"
      },
      "outputs": [],
      "source": [
        "# YOUR CODE HERE\n"
      ]
    },
    {
      "cell_type": "markdown",
      "id": "ede6b82c",
      "metadata": {
        "id": "ede6b82c"
      },
      "source": [
        "### Assignment  2 summary\n",
        "\n",
        "- Was anything unclear to you in Assignment 2?\n",
        "- Did you encounter any problems with decimal formatting?\n",
        "\n",
        "\n",
        "Please write your answers and comments below."
      ]
    },
    {
      "cell_type": "code",
      "execution_count": null,
      "id": "c068e6cd",
      "metadata": {
        "id": "c068e6cd"
      },
      "outputs": [],
      "source": []
    }
  ],
  "metadata": {
    "kernelspec": {
      "display_name": "Python 3 (ipykernel)",
      "language": "python",
      "name": "python3"
    },
    "language_info": {
      "codemirror_mode": {
        "name": "ipython",
        "version": 3
      },
      "file_extension": ".py",
      "mimetype": "text/x-python",
      "name": "python",
      "nbconvert_exporter": "python",
      "pygments_lexer": "ipython3",
      "version": "3.9.12"
    },
    "colab": {
      "provenance": []
    }
  },
  "nbformat": 4,
  "nbformat_minor": 5
}