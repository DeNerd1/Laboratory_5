{
 "cells": [
  {
   "cell_type": "markdown",
   "id": "f949adf5",
   "metadata": {
    "id": "f949adf5"
   },
   "source": [
    "## Assignment 3 - Data analysis\n",
    "\n",
    "In this problem we will explore our temperature data by comparing spring temperatures between 2 stations. To do this we'll use some conditions to extract subsets of our data and then analyse these subsets using basic pandas functions. Please perform the tasks below by writing your code into the codeblocks in each section.\n",
    "\n",
    "### Assesment for this problem\n",
    "\n",
    "**Assesement will be based on following criteria:**\n",
    "\n",
    "- Calculating the median temperatures for Station1 and Station2 for the summer of 2017\n",
    "- Selecting temperatures for May and June 2017 in separate dataframes for each location\n",
    "- Printing out some summary values for each month (May, June) and location (Station1, Station2)\n",
    "- Including comments that explain what most lines in the code do\n",
    "- Answering a couple questions at the end of the problem"
   ]
  },
  {
   "cell_type": "markdown",
   "id": "f996e936",
   "metadata": {
    "id": "f996e936"
   },
   "source": [
    "### Part 1\n",
    "First, you need to load the data from Problem 2.\n",
    "\n",
    "- Read in the csv files generated in Problem 2 to the variables `Station1` and `Station2`"
   ]
  },
  {
   "cell_type": "code",
   "execution_count": null,
   "id": "0d88f20f",
   "metadata": {
    "id": "0d88f20f"
   },
   "outputs": [],
   "source": [
    "Station1 = None\n",
    "Station2 = None\n",
    "\n",
    "# YOUR CODE HERE\n"
   ]
  },
  {
   "cell_type": "code",
   "execution_count": null,
   "id": "8e9f97f6",
   "metadata": {
    "id": "8e9f97f6"
   },
   "outputs": [],
   "source": [
    "print(Station1.head())\n",
    "print('')\n",
    "print(Station2.head())"
   ]
  },
  {
   "cell_type": "markdown",
   "id": "7e79bdbe",
   "metadata": {
    "id": "7e79bdbe"
   },
   "source": [
    "### Part 2\n",
    "\n",
    "Next you can find some median temperature values for the period the data covers.\n",
    "\n",
    "- What was the median Celsius temperature during the observed period in:\n",
    "    - Station1? (store the answer in a variable `Station1_median`)\n",
    "    - Station2? (store the answer in a variable `Station2_median`)"
   ]
  },
  {
   "cell_type": "code",
   "execution_count": null,
   "id": "fd218213",
   "metadata": {
    "id": "fd218213"
   },
   "outputs": [],
   "source": [
    "Station1_median = None\n",
    "Station2_median = None\n",
    "\n",
    "# YOUR CODE HERE\n",
    "raise NotImplementedError()"
   ]
  },
  {
   "cell_type": "code",
   "execution_count": null,
   "id": "8a0df548",
   "metadata": {
    "id": "8a0df548"
   },
   "outputs": [],
   "source": [
    "# Prints the median temperatures\n",
    "print(f\"Station1 median: {Station1_median}\")\n",
    "print(f\"Station2 median: {Station2_median}\")"
   ]
  },
  {
   "cell_type": "markdown",
   "id": "ebcabd79",
   "metadata": {
    "id": "ebcabd79"
   },
   "source": [
    "### Part 3\n",
    "\n",
    "The median temperatures above consider data from the entire summer (May-Aug), hence the differences might not be so clear. Let's now find out the mean temperatures from May and June 2017 in Station1 and Station2.\n",
    "\n",
    "- From the `Station1` and `Station2` DataFrames, select the rows where values of the `YR--MODAHRMN` column are from May 2017\n",
    "    - Assign these selected rows into the variables `Station1_may` and `Station2_may`\n",
    "- Repeat the procedure for the month of June and assign those values into variables to `Station1_june` and `Station2_june`"
   ]
  },
  {
   "cell_type": "code",
   "execution_count": null,
   "id": "d00e09c0",
   "metadata": {
    "id": "d00e09c0"
   },
   "outputs": [],
   "source": [
    "# Select the subset of the Station1 and Station2 data for May and June\n",
    "Station1_may = None\n",
    "Station2_may = None\n",
    "\n",
    "Station1_june = None\n",
    "Station2_june = None\n",
    "\n",
    "# YOUR CODE HERE\n"
   ]
  },
  {
   "cell_type": "markdown",
   "id": "d091df1d",
   "metadata": {
    "id": "d091df1d"
   },
   "source": [
    "Check that the subsets look ok:"
   ]
  },
  {
   "cell_type": "code",
   "execution_count": null,
   "id": "9e8e5d75",
   "metadata": {
    "id": "9e8e5d75"
   },
   "outputs": [],
   "source": [
    "print(f\"First values in May, Station1:\\n{Station1_may.head()}\\n\")\n",
    "print(f\"Last values in May, Station1:\\n{Station1_may.tail()}\")"
   ]
  },
  {
   "cell_type": "code",
   "execution_count": null,
   "id": "7ce9b324",
   "metadata": {
    "id": "7ce9b324"
   },
   "outputs": [],
   "source": [
    "print(f\"First values in June, Station1:\\n{Station1_june.head()}\\n\")\n",
    "print(f\"Last values in June, Station1:\\n{Station1_june.tail()}\")"
   ]
  },
  {
   "cell_type": "code",
   "execution_count": null,
   "id": "fe124d27",
   "metadata": {
    "id": "fe124d27"
   },
   "outputs": [],
   "source": [
    "print(f\"First values in May, Station2:\\n{Station2_may.head()}\\n\")\n",
    "print(f\"Last values in May, Station2:\\n{Station2_may.tail()}\")"
   ]
  },
  {
   "cell_type": "code",
   "execution_count": null,
   "id": "de1b1940",
   "metadata": {
    "id": "de1b1940"
   },
   "outputs": [],
   "source": [
    "print(f\"First values in June, Station2:\\n{Station2_june.head()}\\n\")\n",
    "print(f\"Last values in June, Station2i:\\n{Station2_june.tail()}\")"
   ]
  },
  {
   "cell_type": "markdown",
   "id": "2b586bd5",
   "metadata": {
    "id": "2b586bd5"
   },
   "source": [
    "### Part 4\n",
    "\n",
    "Now you can make your temperature data from both locations and months easier to compare by printing out a few useful values.\n",
    "\n",
    "- Use the `print()` function to show the mean, min and max Celsius temperatures for both places in May and June using the new subset dataframes (`Station1_may`, `Station2_may`, `Station1_june`, and `Station2_june`)."
   ]
  },
  {
   "cell_type": "code",
   "execution_count": null,
   "id": "5cd82a1b",
   "metadata": {
    "id": "5cd82a1b"
   },
   "outputs": [],
   "source": [
    "# YOUR CODE HERE\n"
   ]
  },
  {
   "cell_type": "markdown",
   "id": "75d32238",
   "metadata": {
    "id": "75d32238"
   },
   "source": [
    "### Assignment 3 summary\n",
    "\n",
    "Let's briefly interpret the results of the data analysis in Problem 3. Please answer the following questions based on the data analysis results from this problem:\n",
    "\n",
    "- Does there seem to be a large difference in temperatures between the months?\n",
    "- Is Station2 a much colder place than Station1?\n",
    "\n",
    "Also, be sure to:\n",
    "\n",
    "- Check that your code includes informative comments explaining what your code does\n"
   ]
  },
  {
   "cell_type": "code",
   "execution_count": null,
   "id": "4cde8efa",
   "metadata": {
    "id": "4cde8efa"
   },
   "outputs": [],
   "source": [
    "YOUR ANSWER HERE"
   ]
  },
  {
   "cell_type": "code",
   "execution_count": null,
   "id": "131f37d9-d2c6-4e58-b761-75509fe30a89",
   "metadata": {},
   "outputs": [],
   "source": []
  },
  {
   "cell_type": "markdown",
   "id": "77f5e76a-73ef-4982-a7fe-a17b211ac42d",
   "metadata": {},
   "source": [
    "Sources for the exercise : https://geo-python-site.readthedocs.io/en/latest/ running on a Attribution-ShareAlike 4.0 International Licence https://creativecommons.org/licenses/by-sa/4.0/deed.en"
   ]
  },
  {
   "cell_type": "code",
   "execution_count": null,
   "id": "69af6f9e-c660-43ed-ae69-ba92d3a9c7ae",
   "metadata": {},
   "outputs": [],
   "source": []
  }
 ],
 "metadata": {
  "colab": {
   "provenance": []
  },
  "kernelspec": {
   "display_name": "Python 3 (ipykernel)",
   "language": "python",
   "name": "python3"
  },
  "language_info": {
   "codemirror_mode": {
    "name": "ipython",
    "version": 3
   },
   "file_extension": ".py",
   "mimetype": "text/x-python",
   "name": "python",
   "nbconvert_exporter": "python",
   "pygments_lexer": "ipython3",
   "version": "3.11.7"
  }
 },
 "nbformat": 4,
 "nbformat_minor": 5
}
